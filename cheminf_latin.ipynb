{
  "nbformat": 4,
  "nbformat_minor": 0,
  "metadata": {
    "colab": {
      "provenance": [],
      "include_colab_link": true
    },
    "kernelspec": {
      "name": "python3",
      "display_name": "Python 3"
    },
    "language_info": {
      "name": "python"
    }
  },
  "cells": [
    {
      "cell_type": "markdown",
      "metadata": {
        "id": "view-in-github",
        "colab_type": "text"
      },
      "source": [
        "<a href=\"https://colab.research.google.com/github/bbarthougatica/ChmInf/blob/Toxic_data/cheminf_latin.ipynb\" target=\"_parent\"><img src=\"https://colab.research.google.com/assets/colab-badge.svg\" alt=\"Open In Colab\"/></a>"
      ]
    },
    {
      "cell_type": "code",
      "execution_count": null,
      "metadata": {
        "id": "eAEl6uV63Adu"
      },
      "outputs": [],
      "source": [
        "# Install all libraries\n",
        "!pip install numpy scipy matplotlib scikit-learn pandas rdkit xgboost deepchem mordred pycm\n",
        "\n",
        "import pandas as pd\n",
        "\n",
        "# Download all data\n",
        "!mkdir data"
      ]
    },
    {
      "cell_type": "code",
      "source": [],
      "metadata": {
        "id": "87FMS1scGYqS"
      },
      "execution_count": null,
      "outputs": []
    }
  ]
}