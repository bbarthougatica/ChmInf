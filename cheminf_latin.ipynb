{
  "nbformat": 4,
  "nbformat_minor": 0,
  "metadata": {
    "colab": {
      "provenance": [],
      "include_colab_link": true
    },
    "kernelspec": {
      "name": "python3",
      "display_name": "Python 3"
    },
    "language_info": {
      "name": "python"
    }
  },
  "cells": [
    {
      "cell_type": "markdown",
      "metadata": {
        "id": "view-in-github",
        "colab_type": "text"
      },
      "source": [
        "<a href=\"https://colab.research.google.com/github/bbarthougatica/ChmInf/blob/Toxic_data/cheminf_latin.ipynb\" target=\"_parent\"><img src=\"https://colab.research.google.com/assets/colab-badge.svg\" alt=\"Open In Colab\"/></a>"
      ]
    },
    {
      "cell_type": "markdown",
      "source": [
        "# **Cheminformatics & drug design - Project**\n",
        "\n",
        "\n",
        "RDKit is an open-source software toolkit for cheminformatics, designed to assist in the analysis and design of small molecules and chemical compounds. It provides a set of libraries and tools for the manipulation and analysis of molecular structures, molecular descriptors, molecular fingerprints, molecular similarity, molecular visualization, and more. The toolkit is widely used in academia, as well as in the pharmaceutical, biotech, and chemical industries for a variety of tasks such as virtual screening, lead optimization, and chemical database management."
      ],
      "metadata": {
        "id": "peVuL4q86lD9"
      }
    },
    {
      "cell_type": "code",
      "execution_count": 1,
      "metadata": {
        "id": "eAEl6uV63Adu",
        "colab": {
          "base_uri": "https://localhost:8080/"
        },
        "collapsed": true,
        "outputId": "8bc706f0-fcbe-4992-f17f-05b79e2f40b1"
      },
      "outputs": [
        {
          "output_type": "stream",
          "name": "stdout",
          "text": [
            "Requirement already satisfied: numpy in /usr/local/lib/python3.12/dist-packages (1.26.4)\n",
            "Requirement already satisfied: scipy in /usr/local/lib/python3.12/dist-packages (1.16.2)\n",
            "Requirement already satisfied: matplotlib in /usr/local/lib/python3.12/dist-packages (3.10.0)\n",
            "Requirement already satisfied: scikit-learn in /usr/local/lib/python3.12/dist-packages (1.6.1)\n",
            "Requirement already satisfied: pandas in /usr/local/lib/python3.12/dist-packages (2.2.2)\n",
            "Requirement already satisfied: rdkit in /usr/local/lib/python3.12/dist-packages (2025.9.1)\n",
            "Requirement already satisfied: xgboost in /usr/local/lib/python3.12/dist-packages (3.0.5)\n",
            "Requirement already satisfied: deepchem in /usr/local/lib/python3.12/dist-packages (2.5.0)\n",
            "Requirement already satisfied: mordred in /usr/local/lib/python3.12/dist-packages (1.2.0)\n",
            "Requirement already satisfied: pycm in /usr/local/lib/python3.12/dist-packages (4.5)\n",
            "Requirement already satisfied: contourpy>=1.0.1 in /usr/local/lib/python3.12/dist-packages (from matplotlib) (1.3.3)\n",
            "Requirement already satisfied: cycler>=0.10 in /usr/local/lib/python3.12/dist-packages (from matplotlib) (0.12.1)\n",
            "Requirement already satisfied: fonttools>=4.22.0 in /usr/local/lib/python3.12/dist-packages (from matplotlib) (4.60.1)\n",
            "Requirement already satisfied: kiwisolver>=1.3.1 in /usr/local/lib/python3.12/dist-packages (from matplotlib) (1.4.9)\n",
            "Requirement already satisfied: packaging>=20.0 in /usr/local/lib/python3.12/dist-packages (from matplotlib) (25.0)\n",
            "Requirement already satisfied: pillow>=8 in /usr/local/lib/python3.12/dist-packages (from matplotlib) (11.3.0)\n",
            "Requirement already satisfied: pyparsing>=2.3.1 in /usr/local/lib/python3.12/dist-packages (from matplotlib) (3.2.5)\n",
            "Requirement already satisfied: python-dateutil>=2.7 in /usr/local/lib/python3.12/dist-packages (from matplotlib) (2.9.0.post0)\n",
            "Requirement already satisfied: joblib>=1.2.0 in /usr/local/lib/python3.12/dist-packages (from scikit-learn) (1.5.2)\n",
            "Requirement already satisfied: threadpoolctl>=3.1.0 in /usr/local/lib/python3.12/dist-packages (from scikit-learn) (3.6.0)\n",
            "Requirement already satisfied: pytz>=2020.1 in /usr/local/lib/python3.12/dist-packages (from pandas) (2025.2)\n",
            "Requirement already satisfied: tzdata>=2022.7 in /usr/local/lib/python3.12/dist-packages (from pandas) (2025.2)\n",
            "Requirement already satisfied: nvidia-nccl-cu12 in /usr/local/lib/python3.12/dist-packages (from xgboost) (2.27.3)\n",
            "Requirement already satisfied: six==1.* in /usr/local/lib/python3.12/dist-packages (from mordred) (1.17.0)\n",
            "Requirement already satisfied: networkx==2.* in /usr/local/lib/python3.12/dist-packages (from mordred) (2.8.8)\n",
            "Requirement already satisfied: art>=1.8 in /usr/local/lib/python3.12/dist-packages (from pycm) (6.5)\n"
          ]
        },
        {
          "output_type": "stream",
          "name": "stderr",
          "text": [
            "\u001b[34m\u001b[1mwandb\u001b[0m: \u001b[33mWARNING\u001b[0m W&B installed but not logged in.  Run `wandb login` or set the WANDB_API_KEY env variable.\n",
            "WARNING:tensorflow:From /usr/local/lib/python3.12/dist-packages/tensorflow/python/util/deprecation.py:588: calling function (from tensorflow.python.eager.polymorphic_function.polymorphic_function) with experimental_relax_shapes is deprecated and will be removed in a future version.\n",
            "Instructions for updating:\n",
            "experimental_relax_shapes is deprecated, use reduce_retracing instead\n",
            "\u001b[34m\u001b[1mwandb\u001b[0m: \u001b[33mWARNING\u001b[0m W&B installed but not logged in.  Run `wandb login` or set the WANDB_API_KEY env variable.\n"
          ]
        }
      ],
      "source": [
        "# Install all libraries\n",
        "!pip install numpy scipy matplotlib scikit-learn pandas rdkit xgboost deepchem mordred pycm\n",
        "\n",
        "import pandas as pd\n",
        "import deepchem as dc\n",
        "from rdkit import Chem\n",
        "from rdkit.Chem.Draw import IPythonConsole"
      ]
    },
    {
      "cell_type": "markdown",
      "source": [
        "Now we upload our selected Data Bases."
      ],
      "metadata": {
        "id": "cnkc_mux-pS2"
      }
    },
    {
      "cell_type": "markdown",
      "source": [
        "Per default, featurizer es ECFP, also known as circular fingerprints or as morgan generator"
      ],
      "metadata": {
        "id": "C0RECsMjLc_w"
      }
    },
    {
      "cell_type": "code",
      "source": [
        "featurizer = dc.feat.CircularFingerprint(size=2048, radius=8, sparse=True, smiles=True)\n",
        "tasks, datasets, transformers = dc.molnet.load_sider(featurizer=featurizer)\n",
        "train_dataset, valid_dataset, test_dataset = datasets"
      ],
      "metadata": {
        "id": "sCKU_15nKBof"
      },
      "execution_count": 51,
      "outputs": []
    },
    {
      "cell_type": "code",
      "source": [
        "print(\"Dataset:\", \"SIDER\")\n",
        "print(\"Number of tasks (side effect categories):\", len(tasks))\n",
        "print(\"Example task names:\", tasks[:5])"
      ],
      "metadata": {
        "colab": {
          "base_uri": "https://localhost:8080/"
        },
        "id": "KX4Phy7zKk3U",
        "outputId": "d25f426b-909a-4984-df2a-e7b23bba4c9e"
      },
      "execution_count": 52,
      "outputs": [
        {
          "output_type": "stream",
          "name": "stdout",
          "text": [
            "Dataset: SIDER\n",
            "Number of tasks (side effect categories): 27\n",
            "Example task names: ['Hepatobiliary disorders', 'Metabolism and nutrition disorders', 'Product issues', 'Eye disorders', 'Investigations']\n"
          ]
        }
      ]
    },
    {
      "cell_type": "code",
      "source": [
        "print([type(d) for d in datasets])"
      ],
      "metadata": {
        "colab": {
          "base_uri": "https://localhost:8080/"
        },
        "id": "D09Ew16wLwUa",
        "outputId": "6dc12443-7662-4e78-8f92-1de6b169ae97"
      },
      "execution_count": 53,
      "outputs": [
        {
          "output_type": "stream",
          "name": "stdout",
          "text": [
            "[<class 'deepchem.data.datasets.DiskDataset'>, <class 'deepchem.data.datasets.DiskDataset'>, <class 'deepchem.data.datasets.DiskDataset'>]\n"
          ]
        }
      ]
    },
    {
      "cell_type": "markdown",
      "source": [
        "Load sider usually returns a tuple with three datasets, one for training, one for validation and one for test, that's why we need to unpack them for use. In our case, we keep all the data in the same dataset for now"
      ],
      "metadata": {
        "id": "ZPLNbRMBMr_V"
      }
    },
    {
      "cell_type": "code",
      "source": [
        "tasks"
      ],
      "metadata": {
        "colab": {
          "base_uri": "https://localhost:8080/"
        },
        "id": "rXl6BDgZOJoK",
        "outputId": "9ee92b09-ab27-4a8c-b8a4-119f7cc7c2e3"
      },
      "execution_count": 54,
      "outputs": [
        {
          "output_type": "execute_result",
          "data": {
            "text/plain": [
              "['Hepatobiliary disorders',\n",
              " 'Metabolism and nutrition disorders',\n",
              " 'Product issues',\n",
              " 'Eye disorders',\n",
              " 'Investigations',\n",
              " 'Musculoskeletal and connective tissue disorders',\n",
              " 'Gastrointestinal disorders',\n",
              " 'Social circumstances',\n",
              " 'Immune system disorders',\n",
              " 'Reproductive system and breast disorders',\n",
              " 'Neoplasms benign, malignant and unspecified (incl cysts and polyps)',\n",
              " 'General disorders and administration site conditions',\n",
              " 'Endocrine disorders',\n",
              " 'Surgical and medical procedures',\n",
              " 'Vascular disorders',\n",
              " 'Blood and lymphatic system disorders',\n",
              " 'Skin and subcutaneous tissue disorders',\n",
              " 'Congenital, familial and genetic disorders',\n",
              " 'Infections and infestations',\n",
              " 'Respiratory, thoracic and mediastinal disorders',\n",
              " 'Psychiatric disorders',\n",
              " 'Renal and urinary disorders',\n",
              " 'Pregnancy, puerperium and perinatal conditions',\n",
              " 'Ear and labyrinth disorders',\n",
              " 'Cardiac disorders',\n",
              " 'Nervous system disorders',\n",
              " 'Injury, poisoning and procedural complications']"
            ]
          },
          "metadata": {},
          "execution_count": 54
        }
      ]
    },
    {
      "cell_type": "markdown",
      "source": [
        "We are now working with DiskDataset, we need to convert to panda dataframe"
      ],
      "metadata": {
        "id": "pITtNp8fNdwc"
      }
    },
    {
      "cell_type": "code",
      "source": [
        "# Convert to DataFrame\n",
        "X = train_dataset.X #1024-bit molecular fingerprints\n",
        "y = train_dataset.y #Side effect binary labels\n",
        "ids = train_dataset.ids #SMILES\n"
      ],
      "metadata": {
        "id": "5GjTkhSbNoeo"
      },
      "execution_count": 57,
      "outputs": []
    },
    {
      "cell_type": "code",
      "source": [
        "df = pd.DataFrame(y, columns=tasks)\n",
        "df.insert(0, \"SMILES\", ids)\n",
        "\n",
        "df.head()"
      ],
      "metadata": {
        "colab": {
          "base_uri": "https://localhost:8080/",
          "height": 338
        },
        "id": "4mVjk3ZkPSbO",
        "outputId": "5d690656-61a6-48c3-d275-23a93b5e4386"
      },
      "execution_count": 58,
      "outputs": [
        {
          "output_type": "execute_result",
          "data": {
            "text/plain": [
              "                    SMILES  Hepatobiliary disorders  \\\n",
              "0          C(CNCCNCCNCCN)N                      1.0   \n",
              "1                   Cl[Tl]                      0.0   \n",
              "2  C[N+](C)(C)CC(CC(=O)O)O                      0.0   \n",
              "3             C(CC(=O)O)CN                      0.0   \n",
              "4        C(CC(=O)O)C(=O)CN                      1.0   \n",
              "\n",
              "   Metabolism and nutrition disorders  Product issues  Eye disorders  \\\n",
              "0                                 1.0             0.0            0.0   \n",
              "1                                 0.0             0.0            1.0   \n",
              "2                                 1.0             0.0            1.0   \n",
              "3                                 0.0             0.0            0.0   \n",
              "4                                 0.0             0.0            1.0   \n",
              "\n",
              "   Investigations  Musculoskeletal and connective tissue disorders  \\\n",
              "0             1.0                                              1.0   \n",
              "1             1.0                                              0.0   \n",
              "2             1.0                                              1.0   \n",
              "3             0.0                                              0.0   \n",
              "4             1.0                                              0.0   \n",
              "\n",
              "   Gastrointestinal disorders  Social circumstances  Immune system disorders  \\\n",
              "0                         1.0                   0.0                      0.0   \n",
              "1                         1.0                   0.0                      1.0   \n",
              "2                         1.0                   0.0                      1.0   \n",
              "3                         0.0                   0.0                      1.0   \n",
              "4                         1.0                   0.0                      0.0   \n",
              "\n",
              "   ...  Congenital, familial and genetic disorders  \\\n",
              "0  ...                                         0.0   \n",
              "1  ...                                         0.0   \n",
              "2  ...                                         0.0   \n",
              "3  ...                                         0.0   \n",
              "4  ...                                         0.0   \n",
              "\n",
              "   Infections and infestations  \\\n",
              "0                          0.0   \n",
              "1                          1.0   \n",
              "2                          1.0   \n",
              "3                          0.0   \n",
              "4                          1.0   \n",
              "\n",
              "   Respiratory, thoracic and mediastinal disorders  Psychiatric disorders  \\\n",
              "0                                              1.0                    1.0   \n",
              "1                                              1.0                    0.0   \n",
              "2                                              1.0                    1.0   \n",
              "3                                              0.0                    0.0   \n",
              "4                                              1.0                    1.0   \n",
              "\n",
              "   Renal and urinary disorders  \\\n",
              "0                          0.0   \n",
              "1                          0.0   \n",
              "2                          1.0   \n",
              "3                          0.0   \n",
              "4                          0.0   \n",
              "\n",
              "   Pregnancy, puerperium and perinatal conditions  \\\n",
              "0                                             0.0   \n",
              "1                                             0.0   \n",
              "2                                             0.0   \n",
              "3                                             0.0   \n",
              "4                                             0.0   \n",
              "\n",
              "   Ear and labyrinth disorders  Cardiac disorders  Nervous system disorders  \\\n",
              "0                          1.0                1.0                       1.0   \n",
              "1                          0.0                0.0                       1.0   \n",
              "2                          1.0                1.0                       1.0   \n",
              "3                          0.0                0.0                       0.0   \n",
              "4                          0.0                1.0                       1.0   \n",
              "\n",
              "   Injury, poisoning and procedural complications  \n",
              "0                                             0.0  \n",
              "1                                             0.0  \n",
              "2                                             1.0  \n",
              "3                                             0.0  \n",
              "4                                             1.0  \n",
              "\n",
              "[5 rows x 28 columns]"
            ],
            "text/html": [
              "\n",
              "  <div id=\"df-64257339-095e-4ed6-b8d7-2d80d1bf6a7e\" class=\"colab-df-container\">\n",
              "    <div>\n",
              "<style scoped>\n",
              "    .dataframe tbody tr th:only-of-type {\n",
              "        vertical-align: middle;\n",
              "    }\n",
              "\n",
              "    .dataframe tbody tr th {\n",
              "        vertical-align: top;\n",
              "    }\n",
              "\n",
              "    .dataframe thead th {\n",
              "        text-align: right;\n",
              "    }\n",
              "</style>\n",
              "<table border=\"1\" class=\"dataframe\">\n",
              "  <thead>\n",
              "    <tr style=\"text-align: right;\">\n",
              "      <th></th>\n",
              "      <th>SMILES</th>\n",
              "      <th>Hepatobiliary disorders</th>\n",
              "      <th>Metabolism and nutrition disorders</th>\n",
              "      <th>Product issues</th>\n",
              "      <th>Eye disorders</th>\n",
              "      <th>Investigations</th>\n",
              "      <th>Musculoskeletal and connective tissue disorders</th>\n",
              "      <th>Gastrointestinal disorders</th>\n",
              "      <th>Social circumstances</th>\n",
              "      <th>Immune system disorders</th>\n",
              "      <th>...</th>\n",
              "      <th>Congenital, familial and genetic disorders</th>\n",
              "      <th>Infections and infestations</th>\n",
              "      <th>Respiratory, thoracic and mediastinal disorders</th>\n",
              "      <th>Psychiatric disorders</th>\n",
              "      <th>Renal and urinary disorders</th>\n",
              "      <th>Pregnancy, puerperium and perinatal conditions</th>\n",
              "      <th>Ear and labyrinth disorders</th>\n",
              "      <th>Cardiac disorders</th>\n",
              "      <th>Nervous system disorders</th>\n",
              "      <th>Injury, poisoning and procedural complications</th>\n",
              "    </tr>\n",
              "  </thead>\n",
              "  <tbody>\n",
              "    <tr>\n",
              "      <th>0</th>\n",
              "      <td>C(CNCCNCCNCCN)N</td>\n",
              "      <td>1.0</td>\n",
              "      <td>1.0</td>\n",
              "      <td>0.0</td>\n",
              "      <td>0.0</td>\n",
              "      <td>1.0</td>\n",
              "      <td>1.0</td>\n",
              "      <td>1.0</td>\n",
              "      <td>0.0</td>\n",
              "      <td>0.0</td>\n",
              "      <td>...</td>\n",
              "      <td>0.0</td>\n",
              "      <td>0.0</td>\n",
              "      <td>1.0</td>\n",
              "      <td>1.0</td>\n",
              "      <td>0.0</td>\n",
              "      <td>0.0</td>\n",
              "      <td>1.0</td>\n",
              "      <td>1.0</td>\n",
              "      <td>1.0</td>\n",
              "      <td>0.0</td>\n",
              "    </tr>\n",
              "    <tr>\n",
              "      <th>1</th>\n",
              "      <td>Cl[Tl]</td>\n",
              "      <td>0.0</td>\n",
              "      <td>0.0</td>\n",
              "      <td>0.0</td>\n",
              "      <td>1.0</td>\n",
              "      <td>1.0</td>\n",
              "      <td>0.0</td>\n",
              "      <td>1.0</td>\n",
              "      <td>0.0</td>\n",
              "      <td>1.0</td>\n",
              "      <td>...</td>\n",
              "      <td>0.0</td>\n",
              "      <td>1.0</td>\n",
              "      <td>1.0</td>\n",
              "      <td>0.0</td>\n",
              "      <td>0.0</td>\n",
              "      <td>0.0</td>\n",
              "      <td>0.0</td>\n",
              "      <td>0.0</td>\n",
              "      <td>1.0</td>\n",
              "      <td>0.0</td>\n",
              "    </tr>\n",
              "    <tr>\n",
              "      <th>2</th>\n",
              "      <td>C[N+](C)(C)CC(CC(=O)O)O</td>\n",
              "      <td>0.0</td>\n",
              "      <td>1.0</td>\n",
              "      <td>0.0</td>\n",
              "      <td>1.0</td>\n",
              "      <td>1.0</td>\n",
              "      <td>1.0</td>\n",
              "      <td>1.0</td>\n",
              "      <td>0.0</td>\n",
              "      <td>1.0</td>\n",
              "      <td>...</td>\n",
              "      <td>0.0</td>\n",
              "      <td>1.0</td>\n",
              "      <td>1.0</td>\n",
              "      <td>1.0</td>\n",
              "      <td>1.0</td>\n",
              "      <td>0.0</td>\n",
              "      <td>1.0</td>\n",
              "      <td>1.0</td>\n",
              "      <td>1.0</td>\n",
              "      <td>1.0</td>\n",
              "    </tr>\n",
              "    <tr>\n",
              "      <th>3</th>\n",
              "      <td>C(CC(=O)O)CN</td>\n",
              "      <td>0.0</td>\n",
              "      <td>0.0</td>\n",
              "      <td>0.0</td>\n",
              "      <td>0.0</td>\n",
              "      <td>0.0</td>\n",
              "      <td>0.0</td>\n",
              "      <td>0.0</td>\n",
              "      <td>0.0</td>\n",
              "      <td>1.0</td>\n",
              "      <td>...</td>\n",
              "      <td>0.0</td>\n",
              "      <td>0.0</td>\n",
              "      <td>0.0</td>\n",
              "      <td>0.0</td>\n",
              "      <td>0.0</td>\n",
              "      <td>0.0</td>\n",
              "      <td>0.0</td>\n",
              "      <td>0.0</td>\n",
              "      <td>0.0</td>\n",
              "      <td>0.0</td>\n",
              "    </tr>\n",
              "    <tr>\n",
              "      <th>4</th>\n",
              "      <td>C(CC(=O)O)C(=O)CN</td>\n",
              "      <td>1.0</td>\n",
              "      <td>0.0</td>\n",
              "      <td>0.0</td>\n",
              "      <td>1.0</td>\n",
              "      <td>1.0</td>\n",
              "      <td>0.0</td>\n",
              "      <td>1.0</td>\n",
              "      <td>0.0</td>\n",
              "      <td>0.0</td>\n",
              "      <td>...</td>\n",
              "      <td>0.0</td>\n",
              "      <td>1.0</td>\n",
              "      <td>1.0</td>\n",
              "      <td>1.0</td>\n",
              "      <td>0.0</td>\n",
              "      <td>0.0</td>\n",
              "      <td>0.0</td>\n",
              "      <td>1.0</td>\n",
              "      <td>1.0</td>\n",
              "      <td>1.0</td>\n",
              "    </tr>\n",
              "  </tbody>\n",
              "</table>\n",
              "<p>5 rows × 28 columns</p>\n",
              "</div>\n",
              "    <div class=\"colab-df-buttons\">\n",
              "\n",
              "  <div class=\"colab-df-container\">\n",
              "    <button class=\"colab-df-convert\" onclick=\"convertToInteractive('df-64257339-095e-4ed6-b8d7-2d80d1bf6a7e')\"\n",
              "            title=\"Convert this dataframe to an interactive table.\"\n",
              "            style=\"display:none;\">\n",
              "\n",
              "  <svg xmlns=\"http://www.w3.org/2000/svg\" height=\"24px\" viewBox=\"0 -960 960 960\">\n",
              "    <path d=\"M120-120v-720h720v720H120Zm60-500h600v-160H180v160Zm220 220h160v-160H400v160Zm0 220h160v-160H400v160ZM180-400h160v-160H180v160Zm440 0h160v-160H620v160ZM180-180h160v-160H180v160Zm440 0h160v-160H620v160Z\"/>\n",
              "  </svg>\n",
              "    </button>\n",
              "\n",
              "  <style>\n",
              "    .colab-df-container {\n",
              "      display:flex;\n",
              "      gap: 12px;\n",
              "    }\n",
              "\n",
              "    .colab-df-convert {\n",
              "      background-color: #E8F0FE;\n",
              "      border: none;\n",
              "      border-radius: 50%;\n",
              "      cursor: pointer;\n",
              "      display: none;\n",
              "      fill: #1967D2;\n",
              "      height: 32px;\n",
              "      padding: 0 0 0 0;\n",
              "      width: 32px;\n",
              "    }\n",
              "\n",
              "    .colab-df-convert:hover {\n",
              "      background-color: #E2EBFA;\n",
              "      box-shadow: 0px 1px 2px rgba(60, 64, 67, 0.3), 0px 1px 3px 1px rgba(60, 64, 67, 0.15);\n",
              "      fill: #174EA6;\n",
              "    }\n",
              "\n",
              "    .colab-df-buttons div {\n",
              "      margin-bottom: 4px;\n",
              "    }\n",
              "\n",
              "    [theme=dark] .colab-df-convert {\n",
              "      background-color: #3B4455;\n",
              "      fill: #D2E3FC;\n",
              "    }\n",
              "\n",
              "    [theme=dark] .colab-df-convert:hover {\n",
              "      background-color: #434B5C;\n",
              "      box-shadow: 0px 1px 3px 1px rgba(0, 0, 0, 0.15);\n",
              "      filter: drop-shadow(0px 1px 2px rgba(0, 0, 0, 0.3));\n",
              "      fill: #FFFFFF;\n",
              "    }\n",
              "  </style>\n",
              "\n",
              "    <script>\n",
              "      const buttonEl =\n",
              "        document.querySelector('#df-64257339-095e-4ed6-b8d7-2d80d1bf6a7e button.colab-df-convert');\n",
              "      buttonEl.style.display =\n",
              "        google.colab.kernel.accessAllowed ? 'block' : 'none';\n",
              "\n",
              "      async function convertToInteractive(key) {\n",
              "        const element = document.querySelector('#df-64257339-095e-4ed6-b8d7-2d80d1bf6a7e');\n",
              "        const dataTable =\n",
              "          await google.colab.kernel.invokeFunction('convertToInteractive',\n",
              "                                                    [key], {});\n",
              "        if (!dataTable) return;\n",
              "\n",
              "        const docLinkHtml = 'Like what you see? Visit the ' +\n",
              "          '<a target=\"_blank\" href=https://colab.research.google.com/notebooks/data_table.ipynb>data table notebook</a>'\n",
              "          + ' to learn more about interactive tables.';\n",
              "        element.innerHTML = '';\n",
              "        dataTable['output_type'] = 'display_data';\n",
              "        await google.colab.output.renderOutput(dataTable, element);\n",
              "        const docLink = document.createElement('div');\n",
              "        docLink.innerHTML = docLinkHtml;\n",
              "        element.appendChild(docLink);\n",
              "      }\n",
              "    </script>\n",
              "  </div>\n",
              "\n",
              "\n",
              "    <div id=\"df-0c24e2ff-e396-4c58-8b66-f169ec4983c1\">\n",
              "      <button class=\"colab-df-quickchart\" onclick=\"quickchart('df-0c24e2ff-e396-4c58-8b66-f169ec4983c1')\"\n",
              "                title=\"Suggest charts\"\n",
              "                style=\"display:none;\">\n",
              "\n",
              "<svg xmlns=\"http://www.w3.org/2000/svg\" height=\"24px\"viewBox=\"0 0 24 24\"\n",
              "     width=\"24px\">\n",
              "    <g>\n",
              "        <path d=\"M19 3H5c-1.1 0-2 .9-2 2v14c0 1.1.9 2 2 2h14c1.1 0 2-.9 2-2V5c0-1.1-.9-2-2-2zM9 17H7v-7h2v7zm4 0h-2V7h2v10zm4 0h-2v-4h2v4z\"/>\n",
              "    </g>\n",
              "</svg>\n",
              "      </button>\n",
              "\n",
              "<style>\n",
              "  .colab-df-quickchart {\n",
              "      --bg-color: #E8F0FE;\n",
              "      --fill-color: #1967D2;\n",
              "      --hover-bg-color: #E2EBFA;\n",
              "      --hover-fill-color: #174EA6;\n",
              "      --disabled-fill-color: #AAA;\n",
              "      --disabled-bg-color: #DDD;\n",
              "  }\n",
              "\n",
              "  [theme=dark] .colab-df-quickchart {\n",
              "      --bg-color: #3B4455;\n",
              "      --fill-color: #D2E3FC;\n",
              "      --hover-bg-color: #434B5C;\n",
              "      --hover-fill-color: #FFFFFF;\n",
              "      --disabled-bg-color: #3B4455;\n",
              "      --disabled-fill-color: #666;\n",
              "  }\n",
              "\n",
              "  .colab-df-quickchart {\n",
              "    background-color: var(--bg-color);\n",
              "    border: none;\n",
              "    border-radius: 50%;\n",
              "    cursor: pointer;\n",
              "    display: none;\n",
              "    fill: var(--fill-color);\n",
              "    height: 32px;\n",
              "    padding: 0;\n",
              "    width: 32px;\n",
              "  }\n",
              "\n",
              "  .colab-df-quickchart:hover {\n",
              "    background-color: var(--hover-bg-color);\n",
              "    box-shadow: 0 1px 2px rgba(60, 64, 67, 0.3), 0 1px 3px 1px rgba(60, 64, 67, 0.15);\n",
              "    fill: var(--button-hover-fill-color);\n",
              "  }\n",
              "\n",
              "  .colab-df-quickchart-complete:disabled,\n",
              "  .colab-df-quickchart-complete:disabled:hover {\n",
              "    background-color: var(--disabled-bg-color);\n",
              "    fill: var(--disabled-fill-color);\n",
              "    box-shadow: none;\n",
              "  }\n",
              "\n",
              "  .colab-df-spinner {\n",
              "    border: 2px solid var(--fill-color);\n",
              "    border-color: transparent;\n",
              "    border-bottom-color: var(--fill-color);\n",
              "    animation:\n",
              "      spin 1s steps(1) infinite;\n",
              "  }\n",
              "\n",
              "  @keyframes spin {\n",
              "    0% {\n",
              "      border-color: transparent;\n",
              "      border-bottom-color: var(--fill-color);\n",
              "      border-left-color: var(--fill-color);\n",
              "    }\n",
              "    20% {\n",
              "      border-color: transparent;\n",
              "      border-left-color: var(--fill-color);\n",
              "      border-top-color: var(--fill-color);\n",
              "    }\n",
              "    30% {\n",
              "      border-color: transparent;\n",
              "      border-left-color: var(--fill-color);\n",
              "      border-top-color: var(--fill-color);\n",
              "      border-right-color: var(--fill-color);\n",
              "    }\n",
              "    40% {\n",
              "      border-color: transparent;\n",
              "      border-right-color: var(--fill-color);\n",
              "      border-top-color: var(--fill-color);\n",
              "    }\n",
              "    60% {\n",
              "      border-color: transparent;\n",
              "      border-right-color: var(--fill-color);\n",
              "    }\n",
              "    80% {\n",
              "      border-color: transparent;\n",
              "      border-right-color: var(--fill-color);\n",
              "      border-bottom-color: var(--fill-color);\n",
              "    }\n",
              "    90% {\n",
              "      border-color: transparent;\n",
              "      border-bottom-color: var(--fill-color);\n",
              "    }\n",
              "  }\n",
              "</style>\n",
              "\n",
              "      <script>\n",
              "        async function quickchart(key) {\n",
              "          const quickchartButtonEl =\n",
              "            document.querySelector('#' + key + ' button');\n",
              "          quickchartButtonEl.disabled = true;  // To prevent multiple clicks.\n",
              "          quickchartButtonEl.classList.add('colab-df-spinner');\n",
              "          try {\n",
              "            const charts = await google.colab.kernel.invokeFunction(\n",
              "                'suggestCharts', [key], {});\n",
              "          } catch (error) {\n",
              "            console.error('Error during call to suggestCharts:', error);\n",
              "          }\n",
              "          quickchartButtonEl.classList.remove('colab-df-spinner');\n",
              "          quickchartButtonEl.classList.add('colab-df-quickchart-complete');\n",
              "        }\n",
              "        (() => {\n",
              "          let quickchartButtonEl =\n",
              "            document.querySelector('#df-0c24e2ff-e396-4c58-8b66-f169ec4983c1 button');\n",
              "          quickchartButtonEl.style.display =\n",
              "            google.colab.kernel.accessAllowed ? 'block' : 'none';\n",
              "        })();\n",
              "      </script>\n",
              "    </div>\n",
              "\n",
              "    </div>\n",
              "  </div>\n"
            ],
            "application/vnd.google.colaboratory.intrinsic+json": {
              "type": "dataframe",
              "variable_name": "df"
            }
          },
          "metadata": {},
          "execution_count": 58
        }
      ]
    },
    {
      "cell_type": "markdown",
      "source": [
        "\n",
        "We chose two Data Sets from the *Physiology Collection*.\n",
        "We aim to study toxicity and adverse drug reaction properties and use classification tasks with them.\n",
        "Both datasets are split into training, validation and test subsets following a 80/10/10 ratio and is recommended to do RANDOM splitting.\n",
        "\n",
        "In this file, we will be looking at the Sider dataset\n",
        "\n",
        "\n",
        "# Data Set: **SIDER**\n",
        "\n",
        "* Database of marketed drugs and adverse drug reactions (ADR), grouped into 27 system organ classes.\n",
        "*   Task type: Classification\n",
        "*   Nº Tasks: 27\n",
        "*   Recommended classification and regress metrics: Area Under Curve of Receiver Operating Characteristics\n",
        "*   Nº Compounds: 1427\n",
        "*   Prediction target: Adverce Drug Reaction\n"
      ],
      "metadata": {
        "id": "_jV9msvqGE5M"
      }
    },
    {
      "cell_type": "markdown",
      "source": [
        "\n",
        "*You should perform appropriate data cleaning and preprocessing. This includes evaluating at least two different molecular featurization strategies, such as circular fingerprints (e.g., Morgan) and descriptor-based or graph-based representations.\n",
        "Document any preprocessing decisions or challenges.*\n",
        "\n",
        "\n",
        "**The path to a ML model.**\n",
        "\n",
        "*   Define the task\n",
        "*   Prepare data & split data\n",
        "*   Choose the model\n",
        "*   Train the model\n",
        "*   Evaluate the model\n",
        "*   Use the model\n",
        "\n",
        "\n"
      ],
      "metadata": {
        "id": "rjzq9YqY7YRs"
      }
    },
    {
      "cell_type": "markdown",
      "source": [
        "| Property     | Description                                                                      |\n",
        "| ------------ | -------------------------------------------------------------------------------- |\n",
        "| **Type**     | Supervised learning                                                              |\n",
        "| **Sub-type** | Multi-label classification                                                       |\n",
        "| **Input**    | Molecular features derived from SMILES                                           |\n",
        "| **Output**   | Binary vector of 27 side effect indicators                                       |\n",
        "| **Goal**     | Predict the presence (1) or absence (0) of each side effect for unseen molecules |\n"
      ],
      "metadata": {
        "id": "pV29T1yWTHht"
      }
    },
    {
      "cell_type": "markdown",
      "source": [
        "In this project, our goal is to develop a machine learning model that predicts physiological side effects of drug molecules based on their chemical structure.\n",
        "Each molecule is represented by molecular descriptors derived from its SMILES notation, and the target output consists of 27 binary labels corresponding to physiological side effect categories.\n",
        "This represents a multi-label classification problem, where each compound can be associated with multiple side effects simultaneously."
      ],
      "metadata": {
        "id": "25toHUx9TVht"
      }
    },
    {
      "cell_type": "markdown",
      "source": [
        "In drug discovery, predicting adverse side effects before clinical testing can:\n",
        "Reduce the risk of toxicity in early drug candidates\n",
        "Help prioritize safer compounds\n",
        "Save significant time and cost in development\n",
        "So, our proposed model essentially acts as a computational toxicity screener, a decision-support tool for medicinal chemists."
      ],
      "metadata": {
        "id": "L2vPOEVGTMdB"
      }
    },
    {
      "cell_type": "code",
      "source": [
        "df.shape, df.info()\n"
      ],
      "metadata": {
        "id": "lV79D7YTYkTF",
        "colab": {
          "base_uri": "https://localhost:8080/"
        },
        "outputId": "0c0ebab7-3ea9-4ef6-a293-10fa15cc5f96"
      },
      "execution_count": 48,
      "outputs": [
        {
          "output_type": "stream",
          "name": "stdout",
          "text": [
            "<class 'pandas.core.frame.DataFrame'>\n",
            "RangeIndex: 1427 entries, 0 to 1426\n",
            "Data columns (total 28 columns):\n",
            " #   Column                                                               Non-Null Count  Dtype  \n",
            "---  ------                                                               --------------  -----  \n",
            " 0   SMILES                                                               1427 non-null   object \n",
            " 1   Hepatobiliary disorders                                              1427 non-null   float64\n",
            " 2   Metabolism and nutrition disorders                                   1427 non-null   float64\n",
            " 3   Product issues                                                       1427 non-null   float64\n",
            " 4   Eye disorders                                                        1427 non-null   float64\n",
            " 5   Investigations                                                       1427 non-null   float64\n",
            " 6   Musculoskeletal and connective tissue disorders                      1427 non-null   float64\n",
            " 7   Gastrointestinal disorders                                           1427 non-null   float64\n",
            " 8   Social circumstances                                                 1427 non-null   float64\n",
            " 9   Immune system disorders                                              1427 non-null   float64\n",
            " 10  Reproductive system and breast disorders                             1427 non-null   float64\n",
            " 11  Neoplasms benign, malignant and unspecified (incl cysts and polyps)  1427 non-null   float64\n",
            " 12  General disorders and administration site conditions                 1427 non-null   float64\n",
            " 13  Endocrine disorders                                                  1427 non-null   float64\n",
            " 14  Surgical and medical procedures                                      1427 non-null   float64\n",
            " 15  Vascular disorders                                                   1427 non-null   float64\n",
            " 16  Blood and lymphatic system disorders                                 1427 non-null   float64\n",
            " 17  Skin and subcutaneous tissue disorders                               1427 non-null   float64\n",
            " 18  Congenital, familial and genetic disorders                           1427 non-null   float64\n",
            " 19  Infections and infestations                                          1427 non-null   float64\n",
            " 20  Respiratory, thoracic and mediastinal disorders                      1427 non-null   float64\n",
            " 21  Psychiatric disorders                                                1427 non-null   float64\n",
            " 22  Renal and urinary disorders                                          1427 non-null   float64\n",
            " 23  Pregnancy, puerperium and perinatal conditions                       1427 non-null   float64\n",
            " 24  Ear and labyrinth disorders                                          1427 non-null   float64\n",
            " 25  Cardiac disorders                                                    1427 non-null   float64\n",
            " 26  Nervous system disorders                                             1427 non-null   float64\n",
            " 27  Injury, poisoning and procedural complications                       1427 non-null   float64\n",
            "dtypes: float64(27), object(1)\n",
            "memory usage: 312.3+ KB\n"
          ]
        },
        {
          "output_type": "execute_result",
          "data": {
            "text/plain": [
              "((1427, 28), None)"
            ]
          },
          "metadata": {},
          "execution_count": 48
        }
      ]
    },
    {
      "cell_type": "code",
      "source": [
        "print(df.isna().sum().sum(), \"missing values total\")\n",
        "print(df.describe())"
      ],
      "metadata": {
        "id": "87FMS1scGYqS",
        "colab": {
          "base_uri": "https://localhost:8080/"
        },
        "outputId": "d87e70f0-dd38-4a4c-94c9-bccb750fad3b"
      },
      "execution_count": 49,
      "outputs": [
        {
          "output_type": "stream",
          "name": "stdout",
          "text": [
            "0 missing values total\n",
            "       Hepatobiliary disorders  Metabolism and nutrition disorders  \\\n",
            "count              1427.000000                         1427.000000   \n",
            "mean                  0.520673                            0.697968   \n",
            "std                   0.499748                            0.459300   \n",
            "min                   0.000000                            0.000000   \n",
            "25%                   0.000000                            0.000000   \n",
            "50%                   1.000000                            1.000000   \n",
            "75%                   1.000000                            1.000000   \n",
            "max                   1.000000                            1.000000   \n",
            "\n",
            "       Product issues  Eye disorders  Investigations  \\\n",
            "count     1427.000000    1427.000000     1427.000000   \n",
            "mean         0.015417       0.613875        0.806587   \n",
            "std          0.123247       0.487030        0.395112   \n",
            "min          0.000000       0.000000        0.000000   \n",
            "25%          0.000000       0.000000        1.000000   \n",
            "50%          0.000000       1.000000        1.000000   \n",
            "75%          0.000000       1.000000        1.000000   \n",
            "max          1.000000       1.000000        1.000000   \n",
            "\n",
            "       Musculoskeletal and connective tissue disorders  \\\n",
            "count                                      1427.000000   \n",
            "mean                                          0.698669   \n",
            "std                                           0.458997   \n",
            "min                                           0.000000   \n",
            "25%                                           0.000000   \n",
            "50%                                           1.000000   \n",
            "75%                                           1.000000   \n",
            "max                                           1.000000   \n",
            "\n",
            "       Gastrointestinal disorders  Social circumstances  \\\n",
            "count                 1427.000000           1427.000000   \n",
            "mean                     0.909601              0.175893   \n",
            "std                      0.286854              0.380863   \n",
            "min                      0.000000              0.000000   \n",
            "25%                      1.000000              0.000000   \n",
            "50%                      1.000000              0.000000   \n",
            "75%                      1.000000              0.000000   \n",
            "max                      1.000000              1.000000   \n",
            "\n",
            "       Immune system disorders  Reproductive system and breast disorders  ...  \\\n",
            "count              1427.000000                               1427.000000  ...   \n",
            "mean                  0.717589                                  0.509460  ...   \n",
            "std                   0.450330                                  0.500086  ...   \n",
            "min                   0.000000                                  0.000000  ...   \n",
            "25%                   0.000000                                  0.000000  ...   \n",
            "50%                   1.000000                                  1.000000  ...   \n",
            "75%                   1.000000                                  1.000000  ...   \n",
            "max                   1.000000                                  1.000000  ...   \n",
            "\n",
            "       Congenital, familial and genetic disorders  \\\n",
            "count                                 1427.000000   \n",
            "mean                                     0.177295   \n",
            "std                                      0.382052   \n",
            "min                                      0.000000   \n",
            "25%                                      0.000000   \n",
            "50%                                      0.000000   \n",
            "75%                                      0.000000   \n",
            "max                                      1.000000   \n",
            "\n",
            "       Infections and infestations  \\\n",
            "count                  1427.000000   \n",
            "mean                      0.704975   \n",
            "std                       0.456214   \n",
            "min                       0.000000   \n",
            "25%                       0.000000   \n",
            "50%                       1.000000   \n",
            "75%                       1.000000   \n",
            "max                       1.000000   \n",
            "\n",
            "       Respiratory, thoracic and mediastinal disorders  Psychiatric disorders  \\\n",
            "count                                      1427.000000            1427.000000   \n",
            "mean                                          0.742817               0.711983   \n",
            "std                                           0.437234               0.452998   \n",
            "min                                           0.000000               0.000000   \n",
            "25%                                           0.000000               0.000000   \n",
            "50%                                           1.000000               1.000000   \n",
            "75%                                           1.000000               1.000000   \n",
            "max                                           1.000000               1.000000   \n",
            "\n",
            "       Renal and urinary disorders  \\\n",
            "count                  1427.000000   \n",
            "mean                      0.638402   \n",
            "std                       0.480632   \n",
            "min                       0.000000   \n",
            "25%                       0.000000   \n",
            "50%                       1.000000   \n",
            "75%                       1.000000   \n",
            "max                       1.000000   \n",
            "\n",
            "       Pregnancy, puerperium and perinatal conditions  \\\n",
            "count                                     1427.000000   \n",
            "mean                                         0.087596   \n",
            "std                                          0.282806   \n",
            "min                                          0.000000   \n",
            "25%                                          0.000000   \n",
            "50%                                          0.000000   \n",
            "75%                                          0.000000   \n",
            "max                                          1.000000   \n",
            "\n",
            "       Ear and labyrinth disorders  Cardiac disorders  \\\n",
            "count                  1427.000000        1427.000000   \n",
            "mean                      0.461808           0.692362   \n",
            "std                       0.498714           0.461678   \n",
            "min                       0.000000           0.000000   \n",
            "25%                       0.000000           0.000000   \n",
            "50%                       0.000000           1.000000   \n",
            "75%                       1.000000           1.000000   \n",
            "max                       1.000000           1.000000   \n",
            "\n",
            "       Nervous system disorders  \\\n",
            "count               1427.000000   \n",
            "mean                   0.913805   \n",
            "std                    0.280750   \n",
            "min                    0.000000   \n",
            "25%                    1.000000   \n",
            "50%                    1.000000   \n",
            "75%                    1.000000   \n",
            "max                    1.000000   \n",
            "\n",
            "       Injury, poisoning and procedural complications  \n",
            "count                                     1427.000000  \n",
            "mean                                         0.662929  \n",
            "std                                          0.472875  \n",
            "min                                          0.000000  \n",
            "25%                                          0.000000  \n",
            "50%                                          1.000000  \n",
            "75%                                          1.000000  \n",
            "max                                          1.000000  \n",
            "\n",
            "[8 rows x 27 columns]\n"
          ]
        }
      ]
    },
    {
      "cell_type": "markdown",
      "source": [
        "We being by properly preparing our data"
      ],
      "metadata": {
        "id": "HAGSW6SNb0Rp"
      }
    },
    {
      "cell_type": "code",
      "source": [
        "from sklearn.feature_selection import VarianceThreshold\n",
        "\n",
        "# Remove zero-variance features\n",
        "selector = VarianceThreshold(threshold=0.0)\n",
        "X_clean = selector.fit_transform(df)\n",
        "\n",
        "print(\"Original number of features:\", df.shape[1])\n",
        "print(\"After removing zero-variance features:\", X_clean.shape[1])"
      ],
      "metadata": {
        "id": "Lo1cUDdNXfaW",
        "outputId": "8269e710-1c2a-4efe-b1b0-43512d13d904",
        "colab": {
          "base_uri": "https://localhost:8080/",
          "height": 401
        }
      },
      "execution_count": 62,
      "outputs": [
        {
          "output_type": "error",
          "ename": "ValueError",
          "evalue": "could not convert string to float: 'C(CNCCNCCNCCN)N'",
          "traceback": [
            "\u001b[0;31m---------------------------------------------------------------------------\u001b[0m",
            "\u001b[0;31mValueError\u001b[0m                                Traceback (most recent call last)",
            "\u001b[0;32m/tmp/ipython-input-4204802789.py\u001b[0m in \u001b[0;36m<cell line: 0>\u001b[0;34m()\u001b[0m\n\u001b[1;32m      3\u001b[0m \u001b[0;31m# Remove zero-variance features\u001b[0m\u001b[0;34m\u001b[0m\u001b[0;34m\u001b[0m\u001b[0m\n\u001b[1;32m      4\u001b[0m \u001b[0mselector\u001b[0m \u001b[0;34m=\u001b[0m \u001b[0mVarianceThreshold\u001b[0m\u001b[0;34m(\u001b[0m\u001b[0mthreshold\u001b[0m\u001b[0;34m=\u001b[0m\u001b[0;36m0.0\u001b[0m\u001b[0;34m)\u001b[0m\u001b[0;34m\u001b[0m\u001b[0;34m\u001b[0m\u001b[0m\n\u001b[0;32m----> 5\u001b[0;31m \u001b[0mX_clean\u001b[0m \u001b[0;34m=\u001b[0m \u001b[0mselector\u001b[0m\u001b[0;34m.\u001b[0m\u001b[0mfit_transform\u001b[0m\u001b[0;34m(\u001b[0m\u001b[0mdf\u001b[0m\u001b[0;34m)\u001b[0m\u001b[0;34m\u001b[0m\u001b[0;34m\u001b[0m\u001b[0m\n\u001b[0m\u001b[1;32m      6\u001b[0m \u001b[0;34m\u001b[0m\u001b[0m\n\u001b[1;32m      7\u001b[0m \u001b[0mprint\u001b[0m\u001b[0;34m(\u001b[0m\u001b[0;34m\"Original number of features:\"\u001b[0m\u001b[0;34m,\u001b[0m \u001b[0mdf\u001b[0m\u001b[0;34m.\u001b[0m\u001b[0mshape\u001b[0m\u001b[0;34m[\u001b[0m\u001b[0;36m1\u001b[0m\u001b[0;34m]\u001b[0m\u001b[0;34m)\u001b[0m\u001b[0;34m\u001b[0m\u001b[0;34m\u001b[0m\u001b[0m\n",
            "\u001b[0;32m/usr/local/lib/python3.12/dist-packages/sklearn/utils/_set_output.py\u001b[0m in \u001b[0;36mwrapped\u001b[0;34m(self, X, *args, **kwargs)\u001b[0m\n\u001b[1;32m    317\u001b[0m     \u001b[0;34m@\u001b[0m\u001b[0mwraps\u001b[0m\u001b[0;34m(\u001b[0m\u001b[0mf\u001b[0m\u001b[0;34m)\u001b[0m\u001b[0;34m\u001b[0m\u001b[0;34m\u001b[0m\u001b[0m\n\u001b[1;32m    318\u001b[0m     \u001b[0;32mdef\u001b[0m \u001b[0mwrapped\u001b[0m\u001b[0;34m(\u001b[0m\u001b[0mself\u001b[0m\u001b[0;34m,\u001b[0m \u001b[0mX\u001b[0m\u001b[0;34m,\u001b[0m \u001b[0;34m*\u001b[0m\u001b[0margs\u001b[0m\u001b[0;34m,\u001b[0m \u001b[0;34m**\u001b[0m\u001b[0mkwargs\u001b[0m\u001b[0;34m)\u001b[0m\u001b[0;34m:\u001b[0m\u001b[0;34m\u001b[0m\u001b[0;34m\u001b[0m\u001b[0m\n\u001b[0;32m--> 319\u001b[0;31m         \u001b[0mdata_to_wrap\u001b[0m \u001b[0;34m=\u001b[0m \u001b[0mf\u001b[0m\u001b[0;34m(\u001b[0m\u001b[0mself\u001b[0m\u001b[0;34m,\u001b[0m \u001b[0mX\u001b[0m\u001b[0;34m,\u001b[0m \u001b[0;34m*\u001b[0m\u001b[0margs\u001b[0m\u001b[0;34m,\u001b[0m \u001b[0;34m**\u001b[0m\u001b[0mkwargs\u001b[0m\u001b[0;34m)\u001b[0m\u001b[0;34m\u001b[0m\u001b[0;34m\u001b[0m\u001b[0m\n\u001b[0m\u001b[1;32m    320\u001b[0m         \u001b[0;32mif\u001b[0m \u001b[0misinstance\u001b[0m\u001b[0;34m(\u001b[0m\u001b[0mdata_to_wrap\u001b[0m\u001b[0;34m,\u001b[0m \u001b[0mtuple\u001b[0m\u001b[0;34m)\u001b[0m\u001b[0;34m:\u001b[0m\u001b[0;34m\u001b[0m\u001b[0;34m\u001b[0m\u001b[0m\n\u001b[1;32m    321\u001b[0m             \u001b[0;31m# only wrap the first output for cross decomposition\u001b[0m\u001b[0;34m\u001b[0m\u001b[0;34m\u001b[0m\u001b[0m\n",
            "\u001b[0;32m/usr/local/lib/python3.12/dist-packages/sklearn/base.py\u001b[0m in \u001b[0;36mfit_transform\u001b[0;34m(self, X, y, **fit_params)\u001b[0m\n\u001b[1;32m    916\u001b[0m         \u001b[0;32mif\u001b[0m \u001b[0my\u001b[0m \u001b[0;32mis\u001b[0m \u001b[0;32mNone\u001b[0m\u001b[0;34m:\u001b[0m\u001b[0;34m\u001b[0m\u001b[0;34m\u001b[0m\u001b[0m\n\u001b[1;32m    917\u001b[0m             \u001b[0;31m# fit method of arity 1 (unsupervised transformation)\u001b[0m\u001b[0;34m\u001b[0m\u001b[0;34m\u001b[0m\u001b[0m\n\u001b[0;32m--> 918\u001b[0;31m             \u001b[0;32mreturn\u001b[0m \u001b[0mself\u001b[0m\u001b[0;34m.\u001b[0m\u001b[0mfit\u001b[0m\u001b[0;34m(\u001b[0m\u001b[0mX\u001b[0m\u001b[0;34m,\u001b[0m \u001b[0;34m**\u001b[0m\u001b[0mfit_params\u001b[0m\u001b[0;34m)\u001b[0m\u001b[0;34m.\u001b[0m\u001b[0mtransform\u001b[0m\u001b[0;34m(\u001b[0m\u001b[0mX\u001b[0m\u001b[0;34m)\u001b[0m\u001b[0;34m\u001b[0m\u001b[0;34m\u001b[0m\u001b[0m\n\u001b[0m\u001b[1;32m    919\u001b[0m         \u001b[0;32melse\u001b[0m\u001b[0;34m:\u001b[0m\u001b[0;34m\u001b[0m\u001b[0;34m\u001b[0m\u001b[0m\n\u001b[1;32m    920\u001b[0m             \u001b[0;31m# fit method of arity 2 (supervised transformation)\u001b[0m\u001b[0;34m\u001b[0m\u001b[0;34m\u001b[0m\u001b[0m\n",
            "\u001b[0;32m/usr/local/lib/python3.12/dist-packages/sklearn/base.py\u001b[0m in \u001b[0;36mwrapper\u001b[0;34m(estimator, *args, **kwargs)\u001b[0m\n\u001b[1;32m   1387\u001b[0m                 )\n\u001b[1;32m   1388\u001b[0m             ):\n\u001b[0;32m-> 1389\u001b[0;31m                 \u001b[0;32mreturn\u001b[0m \u001b[0mfit_method\u001b[0m\u001b[0;34m(\u001b[0m\u001b[0mestimator\u001b[0m\u001b[0;34m,\u001b[0m \u001b[0;34m*\u001b[0m\u001b[0margs\u001b[0m\u001b[0;34m,\u001b[0m \u001b[0;34m**\u001b[0m\u001b[0mkwargs\u001b[0m\u001b[0;34m)\u001b[0m\u001b[0;34m\u001b[0m\u001b[0;34m\u001b[0m\u001b[0m\n\u001b[0m\u001b[1;32m   1390\u001b[0m \u001b[0;34m\u001b[0m\u001b[0m\n\u001b[1;32m   1391\u001b[0m         \u001b[0;32mreturn\u001b[0m \u001b[0mwrapper\u001b[0m\u001b[0;34m\u001b[0m\u001b[0;34m\u001b[0m\u001b[0m\n",
            "\u001b[0;32m/usr/local/lib/python3.12/dist-packages/sklearn/feature_selection/_variance_threshold.py\u001b[0m in \u001b[0;36mfit\u001b[0;34m(self, X, y)\u001b[0m\n\u001b[1;32m     98\u001b[0m             \u001b[0mReturns\u001b[0m \u001b[0mthe\u001b[0m \u001b[0minstance\u001b[0m \u001b[0mitself\u001b[0m\u001b[0;34m.\u001b[0m\u001b[0;34m\u001b[0m\u001b[0;34m\u001b[0m\u001b[0m\n\u001b[1;32m     99\u001b[0m         \"\"\"\n\u001b[0;32m--> 100\u001b[0;31m         X = validate_data(\n\u001b[0m\u001b[1;32m    101\u001b[0m             \u001b[0mself\u001b[0m\u001b[0;34m,\u001b[0m\u001b[0;34m\u001b[0m\u001b[0;34m\u001b[0m\u001b[0m\n\u001b[1;32m    102\u001b[0m             \u001b[0mX\u001b[0m\u001b[0;34m,\u001b[0m\u001b[0;34m\u001b[0m\u001b[0;34m\u001b[0m\u001b[0m\n",
            "\u001b[0;32m/usr/local/lib/python3.12/dist-packages/sklearn/utils/validation.py\u001b[0m in \u001b[0;36mvalidate_data\u001b[0;34m(_estimator, X, y, reset, validate_separately, skip_check_array, **check_params)\u001b[0m\n\u001b[1;32m   2942\u001b[0m             \u001b[0mout\u001b[0m \u001b[0;34m=\u001b[0m \u001b[0mX\u001b[0m\u001b[0;34m,\u001b[0m \u001b[0my\u001b[0m\u001b[0;34m\u001b[0m\u001b[0;34m\u001b[0m\u001b[0m\n\u001b[1;32m   2943\u001b[0m     \u001b[0;32melif\u001b[0m \u001b[0;32mnot\u001b[0m \u001b[0mno_val_X\u001b[0m \u001b[0;32mand\u001b[0m \u001b[0mno_val_y\u001b[0m\u001b[0;34m:\u001b[0m\u001b[0;34m\u001b[0m\u001b[0;34m\u001b[0m\u001b[0m\n\u001b[0;32m-> 2944\u001b[0;31m         \u001b[0mout\u001b[0m \u001b[0;34m=\u001b[0m \u001b[0mcheck_array\u001b[0m\u001b[0;34m(\u001b[0m\u001b[0mX\u001b[0m\u001b[0;34m,\u001b[0m \u001b[0minput_name\u001b[0m\u001b[0;34m=\u001b[0m\u001b[0;34m\"X\"\u001b[0m\u001b[0;34m,\u001b[0m \u001b[0;34m**\u001b[0m\u001b[0mcheck_params\u001b[0m\u001b[0;34m)\u001b[0m\u001b[0;34m\u001b[0m\u001b[0;34m\u001b[0m\u001b[0m\n\u001b[0m\u001b[1;32m   2945\u001b[0m     \u001b[0;32melif\u001b[0m \u001b[0mno_val_X\u001b[0m \u001b[0;32mand\u001b[0m \u001b[0;32mnot\u001b[0m \u001b[0mno_val_y\u001b[0m\u001b[0;34m:\u001b[0m\u001b[0;34m\u001b[0m\u001b[0;34m\u001b[0m\u001b[0m\n\u001b[1;32m   2946\u001b[0m         \u001b[0mout\u001b[0m \u001b[0;34m=\u001b[0m \u001b[0m_check_y\u001b[0m\u001b[0;34m(\u001b[0m\u001b[0my\u001b[0m\u001b[0;34m,\u001b[0m \u001b[0;34m**\u001b[0m\u001b[0mcheck_params\u001b[0m\u001b[0;34m)\u001b[0m\u001b[0;34m\u001b[0m\u001b[0;34m\u001b[0m\u001b[0m\n",
            "\u001b[0;32m/usr/local/lib/python3.12/dist-packages/sklearn/utils/validation.py\u001b[0m in \u001b[0;36mcheck_array\u001b[0;34m(array, accept_sparse, accept_large_sparse, dtype, order, copy, force_writeable, force_all_finite, ensure_all_finite, ensure_non_negative, ensure_2d, allow_nd, ensure_min_samples, ensure_min_features, estimator, input_name)\u001b[0m\n\u001b[1;32m   1053\u001b[0m                     \u001b[0marray\u001b[0m \u001b[0;34m=\u001b[0m \u001b[0mxp\u001b[0m\u001b[0;34m.\u001b[0m\u001b[0mastype\u001b[0m\u001b[0;34m(\u001b[0m\u001b[0marray\u001b[0m\u001b[0;34m,\u001b[0m \u001b[0mdtype\u001b[0m\u001b[0;34m,\u001b[0m \u001b[0mcopy\u001b[0m\u001b[0;34m=\u001b[0m\u001b[0;32mFalse\u001b[0m\u001b[0;34m)\u001b[0m\u001b[0;34m\u001b[0m\u001b[0;34m\u001b[0m\u001b[0m\n\u001b[1;32m   1054\u001b[0m                 \u001b[0;32melse\u001b[0m\u001b[0;34m:\u001b[0m\u001b[0;34m\u001b[0m\u001b[0;34m\u001b[0m\u001b[0m\n\u001b[0;32m-> 1055\u001b[0;31m                     \u001b[0marray\u001b[0m \u001b[0;34m=\u001b[0m \u001b[0m_asarray_with_order\u001b[0m\u001b[0;34m(\u001b[0m\u001b[0marray\u001b[0m\u001b[0;34m,\u001b[0m \u001b[0morder\u001b[0m\u001b[0;34m=\u001b[0m\u001b[0morder\u001b[0m\u001b[0;34m,\u001b[0m \u001b[0mdtype\u001b[0m\u001b[0;34m=\u001b[0m\u001b[0mdtype\u001b[0m\u001b[0;34m,\u001b[0m \u001b[0mxp\u001b[0m\u001b[0;34m=\u001b[0m\u001b[0mxp\u001b[0m\u001b[0;34m)\u001b[0m\u001b[0;34m\u001b[0m\u001b[0;34m\u001b[0m\u001b[0m\n\u001b[0m\u001b[1;32m   1056\u001b[0m             \u001b[0;32mexcept\u001b[0m \u001b[0mComplexWarning\u001b[0m \u001b[0;32mas\u001b[0m \u001b[0mcomplex_warning\u001b[0m\u001b[0;34m:\u001b[0m\u001b[0;34m\u001b[0m\u001b[0;34m\u001b[0m\u001b[0m\n\u001b[1;32m   1057\u001b[0m                 raise ValueError(\n",
            "\u001b[0;32m/usr/local/lib/python3.12/dist-packages/sklearn/utils/_array_api.py\u001b[0m in \u001b[0;36m_asarray_with_order\u001b[0;34m(array, dtype, order, copy, xp, device)\u001b[0m\n\u001b[1;32m    837\u001b[0m             \u001b[0marray\u001b[0m \u001b[0;34m=\u001b[0m \u001b[0mnumpy\u001b[0m\u001b[0;34m.\u001b[0m\u001b[0marray\u001b[0m\u001b[0;34m(\u001b[0m\u001b[0marray\u001b[0m\u001b[0;34m,\u001b[0m \u001b[0morder\u001b[0m\u001b[0;34m=\u001b[0m\u001b[0morder\u001b[0m\u001b[0;34m,\u001b[0m \u001b[0mdtype\u001b[0m\u001b[0;34m=\u001b[0m\u001b[0mdtype\u001b[0m\u001b[0;34m)\u001b[0m\u001b[0;34m\u001b[0m\u001b[0;34m\u001b[0m\u001b[0m\n\u001b[1;32m    838\u001b[0m         \u001b[0;32melse\u001b[0m\u001b[0;34m:\u001b[0m\u001b[0;34m\u001b[0m\u001b[0;34m\u001b[0m\u001b[0m\n\u001b[0;32m--> 839\u001b[0;31m             \u001b[0marray\u001b[0m \u001b[0;34m=\u001b[0m \u001b[0mnumpy\u001b[0m\u001b[0;34m.\u001b[0m\u001b[0masarray\u001b[0m\u001b[0;34m(\u001b[0m\u001b[0marray\u001b[0m\u001b[0;34m,\u001b[0m \u001b[0morder\u001b[0m\u001b[0;34m=\u001b[0m\u001b[0morder\u001b[0m\u001b[0;34m,\u001b[0m \u001b[0mdtype\u001b[0m\u001b[0;34m=\u001b[0m\u001b[0mdtype\u001b[0m\u001b[0;34m)\u001b[0m\u001b[0;34m\u001b[0m\u001b[0;34m\u001b[0m\u001b[0m\n\u001b[0m\u001b[1;32m    840\u001b[0m \u001b[0;34m\u001b[0m\u001b[0m\n\u001b[1;32m    841\u001b[0m         \u001b[0;31m# At this point array is a NumPy ndarray. We convert it to an array\u001b[0m\u001b[0;34m\u001b[0m\u001b[0;34m\u001b[0m\u001b[0m\n",
            "\u001b[0;32m/usr/local/lib/python3.12/dist-packages/pandas/core/generic.py\u001b[0m in \u001b[0;36m__array__\u001b[0;34m(self, dtype, copy)\u001b[0m\n\u001b[1;32m   2151\u001b[0m     ) -> np.ndarray:\n\u001b[1;32m   2152\u001b[0m         \u001b[0mvalues\u001b[0m \u001b[0;34m=\u001b[0m \u001b[0mself\u001b[0m\u001b[0;34m.\u001b[0m\u001b[0m_values\u001b[0m\u001b[0;34m\u001b[0m\u001b[0;34m\u001b[0m\u001b[0m\n\u001b[0;32m-> 2153\u001b[0;31m         \u001b[0marr\u001b[0m \u001b[0;34m=\u001b[0m \u001b[0mnp\u001b[0m\u001b[0;34m.\u001b[0m\u001b[0masarray\u001b[0m\u001b[0;34m(\u001b[0m\u001b[0mvalues\u001b[0m\u001b[0;34m,\u001b[0m \u001b[0mdtype\u001b[0m\u001b[0;34m=\u001b[0m\u001b[0mdtype\u001b[0m\u001b[0;34m)\u001b[0m\u001b[0;34m\u001b[0m\u001b[0;34m\u001b[0m\u001b[0m\n\u001b[0m\u001b[1;32m   2154\u001b[0m         if (\n\u001b[1;32m   2155\u001b[0m             \u001b[0mastype_is_view\u001b[0m\u001b[0;34m(\u001b[0m\u001b[0mvalues\u001b[0m\u001b[0;34m.\u001b[0m\u001b[0mdtype\u001b[0m\u001b[0;34m,\u001b[0m \u001b[0marr\u001b[0m\u001b[0;34m.\u001b[0m\u001b[0mdtype\u001b[0m\u001b[0;34m)\u001b[0m\u001b[0;34m\u001b[0m\u001b[0;34m\u001b[0m\u001b[0m\n",
            "\u001b[0;31mValueError\u001b[0m: could not convert string to float: 'C(CNCCNCCNCCN)N'"
          ]
        }
      ]
    },
    {
      "cell_type": "code",
      "source": [],
      "metadata": {
        "id": "alGnLz0JYsbc"
      },
      "execution_count": null,
      "outputs": []
    }
  ]
}