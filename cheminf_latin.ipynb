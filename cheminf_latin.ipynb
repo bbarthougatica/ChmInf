{
  "nbformat": 4,
  "nbformat_minor": 0,
  "metadata": {
    "colab": {
      "provenance": [],
      "include_colab_link": true
    },
    "kernelspec": {
      "name": "python3",
      "display_name": "Python 3"
    },
    "language_info": {
      "name": "python"
    }
  },
  "cells": [
    {
      "cell_type": "markdown",
      "metadata": {
        "id": "view-in-github",
        "colab_type": "text"
      },
      "source": [
        "<a href=\"https://colab.research.google.com/github/bbarthougatica/ChmInf/blob/Toxic_data/cheminf_latin.ipynb\" target=\"_parent\"><img src=\"https://colab.research.google.com/assets/colab-badge.svg\" alt=\"Open In Colab\"/></a>"
      ]
    },
    {
      "cell_type": "markdown",
      "source": [
        "# **Cheminformatics & drug design - Project**\n",
        "\n",
        "\n",
        "RDKit is an open-source software toolkit for cheminformatics, designed to assist in the analysis and design of small molecules and chemical compounds. It provides a set of libraries and tools for the manipulation and analysis of molecular structures, molecular descriptors, molecular fingerprints, molecular similarity, molecular visualization, and more. The toolkit is widely used in academia, as well as in the pharmaceutical, biotech, and chemical industries for a variety of tasks such as virtual screening, lead optimization, and chemical database management."
      ],
      "metadata": {
        "id": "peVuL4q86lD9"
      }
    },
    {
      "cell_type": "code",
      "execution_count": 1,
      "metadata": {
        "id": "eAEl6uV63Adu",
        "colab": {
          "base_uri": "https://localhost:8080/"
        },
        "collapsed": true,
        "outputId": "d5112309-de0f-4658-94e8-34f5c13fdad7"
      },
      "outputs": [
        {
          "output_type": "stream",
          "name": "stdout",
          "text": [
            "Requirement already satisfied: numpy in /usr/local/lib/python3.12/dist-packages (1.26.4)\n",
            "Requirement already satisfied: scipy in /usr/local/lib/python3.12/dist-packages (1.16.2)\n",
            "Requirement already satisfied: matplotlib in /usr/local/lib/python3.12/dist-packages (3.10.0)\n",
            "Requirement already satisfied: scikit-learn in /usr/local/lib/python3.12/dist-packages (1.6.1)\n",
            "Requirement already satisfied: pandas in /usr/local/lib/python3.12/dist-packages (2.2.2)\n",
            "Collecting rdkit\n",
            "  Using cached rdkit-2025.9.1-cp312-cp312-manylinux_2_28_x86_64.whl.metadata (4.1 kB)\n",
            "Collecting xgboost\n",
            "  Using cached xgboost-3.0.5-py3-none-manylinux_2_28_x86_64.whl.metadata (2.1 kB)\n",
            "Collecting deepchem\n",
            "  Using cached deepchem-2.5.0-py3-none-any.whl.metadata (1.1 kB)\n",
            "Requirement already satisfied: mordred in /usr/local/lib/python3.12/dist-packages (1.2.0)\n",
            "Requirement already satisfied: pycm in /usr/local/lib/python3.12/dist-packages (4.5)\n",
            "Requirement already satisfied: contourpy>=1.0.1 in /usr/local/lib/python3.12/dist-packages (from matplotlib) (1.3.3)\n",
            "Requirement already satisfied: cycler>=0.10 in /usr/local/lib/python3.12/dist-packages (from matplotlib) (0.12.1)\n",
            "Requirement already satisfied: fonttools>=4.22.0 in /usr/local/lib/python3.12/dist-packages (from matplotlib) (4.60.1)\n",
            "Requirement already satisfied: kiwisolver>=1.3.1 in /usr/local/lib/python3.12/dist-packages (from matplotlib) (1.4.9)\n",
            "Requirement already satisfied: packaging>=20.0 in /usr/local/lib/python3.12/dist-packages (from matplotlib) (25.0)\n",
            "Requirement already satisfied: pillow>=8 in /usr/local/lib/python3.12/dist-packages (from matplotlib) (11.3.0)\n",
            "Requirement already satisfied: pyparsing>=2.3.1 in /usr/local/lib/python3.12/dist-packages (from matplotlib) (3.2.5)\n",
            "Requirement already satisfied: python-dateutil>=2.7 in /usr/local/lib/python3.12/dist-packages (from matplotlib) (2.9.0.post0)\n",
            "Requirement already satisfied: joblib>=1.2.0 in /usr/local/lib/python3.12/dist-packages (from scikit-learn) (1.5.2)\n",
            "Requirement already satisfied: threadpoolctl>=3.1.0 in /usr/local/lib/python3.12/dist-packages (from scikit-learn) (3.6.0)\n",
            "Requirement already satisfied: pytz>=2020.1 in /usr/local/lib/python3.12/dist-packages (from pandas) (2025.2)\n",
            "Requirement already satisfied: tzdata>=2022.7 in /usr/local/lib/python3.12/dist-packages (from pandas) (2025.2)\n",
            "Requirement already satisfied: nvidia-nccl-cu12 in /usr/local/lib/python3.12/dist-packages (from xgboost) (2.27.3)\n",
            "Requirement already satisfied: six==1.* in /usr/local/lib/python3.12/dist-packages (from mordred) (1.17.0)\n",
            "Requirement already satisfied: networkx==2.* in /usr/local/lib/python3.12/dist-packages (from mordred) (2.8.8)\n",
            "Requirement already satisfied: art>=1.8 in /usr/local/lib/python3.12/dist-packages (from pycm) (6.5)\n",
            "Using cached rdkit-2025.9.1-cp312-cp312-manylinux_2_28_x86_64.whl (36.2 MB)\n",
            "Using cached xgboost-3.0.5-py3-none-manylinux_2_28_x86_64.whl (94.9 MB)\n",
            "Using cached deepchem-2.5.0-py3-none-any.whl (552 kB)\n",
            "Installing collected packages: rdkit, xgboost, deepchem\n",
            "Successfully installed deepchem-2.5.0 rdkit-2025.9.1 xgboost-3.0.5\n"
          ]
        },
        {
          "output_type": "stream",
          "name": "stderr",
          "text": [
            "\u001b[34m\u001b[1mwandb\u001b[0m: \u001b[33mWARNING\u001b[0m W&B installed but not logged in.  Run `wandb login` or set the WANDB_API_KEY env variable.\n",
            "WARNING:tensorflow:From /usr/local/lib/python3.12/dist-packages/tensorflow/python/util/deprecation.py:588: calling function (from tensorflow.python.eager.polymorphic_function.polymorphic_function) with experimental_relax_shapes is deprecated and will be removed in a future version.\n",
            "Instructions for updating:\n",
            "experimental_relax_shapes is deprecated, use reduce_retracing instead\n",
            "\u001b[34m\u001b[1mwandb\u001b[0m: \u001b[33mWARNING\u001b[0m W&B installed but not logged in.  Run `wandb login` or set the WANDB_API_KEY env variable.\n"
          ]
        }
      ],
      "source": [
        "# Install all libraries\n",
        "!pip install numpy scipy matplotlib scikit-learn pandas rdkit xgboost deepchem mordred pycm\n",
        "\n",
        "import pandas as pd\n",
        "import deepchem as dc\n",
        "from rdkit import Chem\n",
        "from rdkit.Chem.Draw import IPythonConsole"
      ]
    },
    {
      "cell_type": "markdown",
      "source": [
        "Now we upload our selected Data Bases."
      ],
      "metadata": {
        "id": "cnkc_mux-pS2"
      }
    },
    {
      "cell_type": "code",
      "source": [
        "# We get our data\n",
        "!mkdir data\n",
        "\n",
        "df21 = pd.read_csv(\"/content/data/tox21.csv\")\n",
        "dfsider = pd.read_csv(\"/content/data/sider.csv\")\n",
        "\n"
      ],
      "metadata": {
        "colab": {
          "base_uri": "https://localhost:8080/"
        },
        "collapsed": true,
        "id": "FA1odxEYWG9e",
        "outputId": "d8185bcc-0476-4e54-a387-47a654dd9771"
      },
      "execution_count": null,
      "outputs": [
        {
          "output_type": "stream",
          "name": "stdout",
          "text": [
            "mkdir: cannot create directory ‘data’: File exists\n"
          ]
        }
      ]
    },
    {
      "cell_type": "markdown",
      "source": [
        "\n",
        "We chose two Data Sets from the *Physiology Collection*.\n",
        "We aim to study toxicity and adverse drug reaction properties and use classification tasks with them.\n",
        "Both datasets are split into training, validation and test subsets following a 80/10/10 ratio and is recommended to do RANDOM splitting.\n",
        "# 1st Data Set: **Tox21**\n",
        "\n",
        "*   Qualitative toxicity measurements on 12 biological targets, including nuclear receptors and stress response pathways.\n",
        "*   Task type: Classification\n",
        "*   Nº Tasks: 12\n",
        "*   Recommended classification and regress metrics: Area Under Curve of Receiver Operating Characteristics\n",
        "*   Nº Compounds: 7831\n",
        "*   Prediction target: Toxicity\n",
        "\n",
        "\n",
        "# 2nd Data Set: **SIDER**\n",
        "\n",
        "* Database of marketed drugs and adverse drug reactions (ADR), grouped into 27 system organ classes.\n",
        "*   Task type: Classification\n",
        "*   Nº Tasks: 27\n",
        "*   Recommended classification and regress metrics: Area Under Curve of Receiver Operating Characteristics\n",
        "*   Nº Compounds: 1427\n",
        "*   Prediction target: Adverce Drug Reaction\n"
      ],
      "metadata": {
        "id": "_jV9msvqGE5M"
      }
    },
    {
      "cell_type": "markdown",
      "source": [
        "\n",
        "*You should perform appropriate data cleaning and preprocessing. This includes evaluating at least two different molecular featurization strategies, such as circular fingerprints (e.g., Morgan) and descriptor-based or graph-based representations.\n",
        "Document any preprocessing decisions or challenges.*\n",
        "\n",
        "\n",
        "**The path to a ML model.**\n",
        "\n",
        "*   Define the task\n",
        "*   Prepare data & split data\n",
        "*   Choose the model\n",
        "*   Train the model\n",
        "*   Evaluate the model\n",
        "*   Use the model\n",
        "\n",
        "\n"
      ],
      "metadata": {
        "id": "rjzq9YqY7YRs"
      }
    },
    {
      "cell_type": "code",
      "source": [],
      "metadata": {
        "id": "lV79D7YTYkTF"
      },
      "execution_count": null,
      "outputs": []
    },
    {
      "cell_type": "code",
      "source": [],
      "metadata": {
        "id": "87FMS1scGYqS"
      },
      "execution_count": null,
      "outputs": []
    }
  ]
}