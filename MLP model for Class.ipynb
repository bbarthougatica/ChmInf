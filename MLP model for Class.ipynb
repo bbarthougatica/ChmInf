{
  "nbformat": 4,
  "nbformat_minor": 0,
  "metadata": {
    "colab": {
      "provenance": [],
      "include_colab_link": true
    },
    "kernelspec": {
      "name": "python3",
      "display_name": "Python 3"
    },
    "language_info": {
      "name": "python"
    }
  },
  "cells": [
    {
      "cell_type": "markdown",
      "metadata": {
        "id": "view-in-github",
        "colab_type": "text"
      },
      "source": [
        "<a href=\"https://colab.research.google.com/github/bbarthougatica/ChmInf/blob/Toxic_data/MLP%20model%20for%20Class.ipynb\" target=\"_parent\"><img src=\"https://colab.research.google.com/assets/colab-badge.svg\" alt=\"Open In Colab\"/></a>"
      ]
    },
    {
      "cell_type": "markdown",
      "source": [
        "# **Cheminformatics & drug design - Project**"
      ],
      "metadata": {
        "id": "na-4QpyWoT2B"
      }
    },
    {
      "cell_type": "markdown",
      "source": [
        "We chose two Data Sets from the *MoleculeNet*.\n",
        "We aim to study toxicity and lipophilicity properties and use classification and regression tasks with them.\n",
        "Both datasets are split into training, validation and test subsets following a 80/10/10 ratio and is recommended to do RANDOM splitting.\n",
        "# 1st Data Set: **Lipophilicity**\n",
        "\n",
        "*   Lipophilicity is an important feature of drug molecules that affects both membrane permeability and solubility. The lipophilicity dataset, curated from ChEMBL database, provides experimental results of octanol/water distribution coefficient (logD at pH 7.4) of 4200 compounds. This property influences how a drug is absorbed, distributed, metabolised, and excreted in the body (ADME properties).\n",
        "*   Task type: Regression\n",
        "*   Nº Tasks: 1\n",
        "*   Recommended regression metric: Root-Mean-Square Error\n",
        "*   Nº Compounds: 4200\n",
        "*   Prediction target: Lipophilicity\n",
        "\n",
        "\n",
        "# 2nd Data Set: **SIDER**\n",
        "\n",
        "* Database of marketed drugs and adverse drug reactions (ADR), grouped into 27 system organ classes.\n",
        "*   Task type: Classification\n",
        "*   Nº Tasks: 27\n",
        "*   Recommended classification metric: Area Under Curve of Receiver Operating Characteristics\n",
        "*   Nº Compounds: 1427\n",
        "*   Prediction target: Adverce Drug Reaction\n"
      ],
      "metadata": {
        "id": "peVuL4q86lD9"
      }
    },
    {
      "cell_type": "code",
      "execution_count": 1,
      "metadata": {
        "id": "eAEl6uV63Adu",
        "colab": {
          "base_uri": "https://localhost:8080/"
        },
        "collapsed": true,
        "outputId": "fb75682e-c0f8-4560-f62f-217768ad6c35"
      },
      "outputs": [
        {
          "output_type": "stream",
          "name": "stdout",
          "text": [
            "Requirement already satisfied: numpy in /usr/local/lib/python3.12/dist-packages (1.26.4)\n",
            "Requirement already satisfied: scipy in /usr/local/lib/python3.12/dist-packages (1.16.2)\n",
            "Requirement already satisfied: matplotlib in /usr/local/lib/python3.12/dist-packages (3.10.0)\n",
            "Requirement already satisfied: scikit-learn in /usr/local/lib/python3.12/dist-packages (1.6.1)\n",
            "Requirement already satisfied: pandas in /usr/local/lib/python3.12/dist-packages (2.2.2)\n",
            "Requirement already satisfied: rdkit in /usr/local/lib/python3.12/dist-packages (2025.9.1)\n",
            "Requirement already satisfied: xgboost in /usr/local/lib/python3.12/dist-packages (3.0.5)\n",
            "Requirement already satisfied: deepchem in /usr/local/lib/python3.12/dist-packages (2.5.0)\n",
            "Requirement already satisfied: mordred in /usr/local/lib/python3.12/dist-packages (1.2.0)\n",
            "Requirement already satisfied: pycm in /usr/local/lib/python3.12/dist-packages (4.5)\n",
            "Requirement already satisfied: contourpy>=1.0.1 in /usr/local/lib/python3.12/dist-packages (from matplotlib) (1.3.3)\n",
            "Requirement already satisfied: cycler>=0.10 in /usr/local/lib/python3.12/dist-packages (from matplotlib) (0.12.1)\n",
            "Requirement already satisfied: fonttools>=4.22.0 in /usr/local/lib/python3.12/dist-packages (from matplotlib) (4.60.1)\n",
            "Requirement already satisfied: kiwisolver>=1.3.1 in /usr/local/lib/python3.12/dist-packages (from matplotlib) (1.4.9)\n",
            "Requirement already satisfied: packaging>=20.0 in /usr/local/lib/python3.12/dist-packages (from matplotlib) (25.0)\n",
            "Requirement already satisfied: pillow>=8 in /usr/local/lib/python3.12/dist-packages (from matplotlib) (11.3.0)\n",
            "Requirement already satisfied: pyparsing>=2.3.1 in /usr/local/lib/python3.12/dist-packages (from matplotlib) (3.2.5)\n",
            "Requirement already satisfied: python-dateutil>=2.7 in /usr/local/lib/python3.12/dist-packages (from matplotlib) (2.9.0.post0)\n",
            "Requirement already satisfied: joblib>=1.2.0 in /usr/local/lib/python3.12/dist-packages (from scikit-learn) (1.5.2)\n",
            "Requirement already satisfied: threadpoolctl>=3.1.0 in /usr/local/lib/python3.12/dist-packages (from scikit-learn) (3.6.0)\n",
            "Requirement already satisfied: pytz>=2020.1 in /usr/local/lib/python3.12/dist-packages (from pandas) (2025.2)\n",
            "Requirement already satisfied: tzdata>=2022.7 in /usr/local/lib/python3.12/dist-packages (from pandas) (2025.2)\n",
            "Requirement already satisfied: nvidia-nccl-cu12 in /usr/local/lib/python3.12/dist-packages (from xgboost) (2.27.3)\n",
            "Requirement already satisfied: six==1.* in /usr/local/lib/python3.12/dist-packages (from mordred) (1.17.0)\n",
            "Requirement already satisfied: networkx==2.* in /usr/local/lib/python3.12/dist-packages (from mordred) (2.8.8)\n",
            "Requirement already satisfied: art>=1.8 in /usr/local/lib/python3.12/dist-packages (from pycm) (6.5)\n"
          ]
        },
        {
          "output_type": "stream",
          "name": "stderr",
          "text": [
            "\u001b[34m\u001b[1mwandb\u001b[0m: \u001b[33mWARNING\u001b[0m W&B installed but not logged in.  Run `wandb login` or set the WANDB_API_KEY env variable.\n",
            "WARNING:tensorflow:From /usr/local/lib/python3.12/dist-packages/tensorflow/python/util/deprecation.py:588: calling function (from tensorflow.python.eager.polymorphic_function.polymorphic_function) with experimental_relax_shapes is deprecated and will be removed in a future version.\n",
            "Instructions for updating:\n",
            "experimental_relax_shapes is deprecated, use reduce_retracing instead\n",
            "\u001b[34m\u001b[1mwandb\u001b[0m: \u001b[33mWARNING\u001b[0m W&B installed but not logged in.  Run `wandb login` or set the WANDB_API_KEY env variable.\n"
          ]
        }
      ],
      "source": [
        "# Install all libraries\n",
        "!pip install numpy scipy matplotlib scikit-learn pandas rdkit xgboost deepchem mordred pycm\n",
        "\n",
        "import pandas as pd\n",
        "import deepchem as dc\n",
        "from rdkit import Chem\n",
        "from rdkit.Chem.Draw import IPythonConsole\n",
        "\n"
      ]
    },
    {
      "cell_type": "markdown",
      "source": [
        "Now we upload our selected Data Bases."
      ],
      "metadata": {
        "id": "eFZXTKgwoyLl"
      }
    },
    {
      "cell_type": "markdown",
      "source": [
        "## 2. Classification algorithms"
      ],
      "metadata": {
        "id": "OiDiN7snA1Eg"
      }
    },
    {
      "cell_type": "markdown",
      "source": [
        "#**2.1) Get DataBases**\n",
        "In this case, \"SIDER\" for classification exercise. Per default, featurizer is ECFP, also known as circular fingerprints or as morgan generator"
      ],
      "metadata": {
        "id": "EO7SuoXycE9d"
      }
    },
    {
      "cell_type": "code",
      "source": [
        "# Circular Fingerprints Featurizer (Morgan FP with size=2048, radius=8)\n",
        "featurizer = dc.feat.CircularFingerprint(size=2048, radius=8)\n",
        "\n",
        "# Load SIDER dataset, applying the custom featurizer during loading\n",
        "tasks, datasets, transformers = dc.molnet.load_sider(featurizer=featurizer)\n",
        "\n",
        "train_dataset, valid_dataset, test_dataset = datasets\n",
        "\n",
        "print(f\"SIDER Dataset load succesfully.\")\n",
        "print(\"Dataset:\", \"SIDER\")\n",
        "print(\"Number of tasks (side effect categories):\", len(tasks))\n",
        "print(\"Example task names:\", tasks[:5])\n",
        "print(f\"Number of classification tasks: {len(tasks)}\")"
      ],
      "metadata": {
        "colab": {
          "base_uri": "https://localhost:8080/"
        },
        "id": "kIc_HS9v-vsv",
        "outputId": "e8bac337-e513-4854-96b5-5d9659822eb2",
        "collapsed": true
      },
      "execution_count": 2,
      "outputs": [
        {
          "output_type": "stream",
          "name": "stdout",
          "text": [
            "SIDER Dataset load succesfully.\n",
            "Dataset: SIDER\n",
            "Number of tasks (side effect categories): 27\n",
            "Example task names: ['Hepatobiliary disorders', 'Metabolism and nutrition disorders', 'Product issues', 'Eye disorders', 'Investigations']\n",
            "Number of classification tasks: 27\n"
          ]
        }
      ]
    },
    {
      "cell_type": "markdown",
      "source": [
        "We can check all the 27 tasks related to side effects in this DataSet."
      ],
      "metadata": {
        "id": "4huIhG60tdCt"
      }
    },
    {
      "cell_type": "code",
      "source": [
        "tasks"
      ],
      "metadata": {
        "colab": {
          "base_uri": "https://localhost:8080/"
        },
        "collapsed": true,
        "id": "4_vsY7AmBGWV",
        "outputId": "3fe6ba38-ec8c-4482-dd24-19e3001ba9a9"
      },
      "execution_count": 3,
      "outputs": [
        {
          "output_type": "execute_result",
          "data": {
            "text/plain": [
              "['Hepatobiliary disorders',\n",
              " 'Metabolism and nutrition disorders',\n",
              " 'Product issues',\n",
              " 'Eye disorders',\n",
              " 'Investigations',\n",
              " 'Musculoskeletal and connective tissue disorders',\n",
              " 'Gastrointestinal disorders',\n",
              " 'Social circumstances',\n",
              " 'Immune system disorders',\n",
              " 'Reproductive system and breast disorders',\n",
              " 'Neoplasms benign, malignant and unspecified (incl cysts and polyps)',\n",
              " 'General disorders and administration site conditions',\n",
              " 'Endocrine disorders',\n",
              " 'Surgical and medical procedures',\n",
              " 'Vascular disorders',\n",
              " 'Blood and lymphatic system disorders',\n",
              " 'Skin and subcutaneous tissue disorders',\n",
              " 'Congenital, familial and genetic disorders',\n",
              " 'Infections and infestations',\n",
              " 'Respiratory, thoracic and mediastinal disorders',\n",
              " 'Psychiatric disorders',\n",
              " 'Renal and urinary disorders',\n",
              " 'Pregnancy, puerperium and perinatal conditions',\n",
              " 'Ear and labyrinth disorders',\n",
              " 'Cardiac disorders',\n",
              " 'Nervous system disorders',\n",
              " 'Injury, poisoning and procedural complications']"
            ]
          },
          "metadata": {},
          "execution_count": 3
        }
      ]
    },
    {
      "cell_type": "code",
      "source": [
        "\n",
        "# Convert to DataFrame\n",
        "X_train = train_dataset.X #1024-bit molecular fingerprints\n",
        "y_train = train_dataset.y #Side effect binary labels\n",
        "ids_train = train_dataset.ids #SMILES\n",
        "\n",
        "df = pd.DataFrame(y_train, columns=tasks)\n",
        "df.insert(0, \"SMILES\", ids_train)\n",
        "\n",
        "df.head()"
      ],
      "metadata": {
        "collapsed": true,
        "colab": {
          "base_uri": "https://localhost:8080/",
          "height": 342
        },
        "id": "2SWYBlbcsDnM",
        "outputId": "b76dabff-4b34-471f-cb77-9d4a010a694b"
      },
      "execution_count": 4,
      "outputs": [
        {
          "output_type": "execute_result",
          "data": {
            "text/plain": [
              "                    SMILES  Hepatobiliary disorders  \\\n",
              "0          C(CNCCNCCNCCN)N                      1.0   \n",
              "1                   Cl[Tl]                      0.0   \n",
              "2  C[N+](C)(C)CC(CC(=O)O)O                      0.0   \n",
              "3             C(CC(=O)O)CN                      0.0   \n",
              "4        C(CC(=O)O)C(=O)CN                      1.0   \n",
              "\n",
              "   Metabolism and nutrition disorders  Product issues  Eye disorders  \\\n",
              "0                                 1.0             0.0            0.0   \n",
              "1                                 0.0             0.0            1.0   \n",
              "2                                 1.0             0.0            1.0   \n",
              "3                                 0.0             0.0            0.0   \n",
              "4                                 0.0             0.0            1.0   \n",
              "\n",
              "   Investigations  Musculoskeletal and connective tissue disorders  \\\n",
              "0             1.0                                              1.0   \n",
              "1             1.0                                              0.0   \n",
              "2             1.0                                              1.0   \n",
              "3             0.0                                              0.0   \n",
              "4             1.0                                              0.0   \n",
              "\n",
              "   Gastrointestinal disorders  Social circumstances  Immune system disorders  \\\n",
              "0                         1.0                   0.0                      0.0   \n",
              "1                         1.0                   0.0                      1.0   \n",
              "2                         1.0                   0.0                      1.0   \n",
              "3                         0.0                   0.0                      1.0   \n",
              "4                         1.0                   0.0                      0.0   \n",
              "\n",
              "   ...  Congenital, familial and genetic disorders  \\\n",
              "0  ...                                         0.0   \n",
              "1  ...                                         0.0   \n",
              "2  ...                                         0.0   \n",
              "3  ...                                         0.0   \n",
              "4  ...                                         0.0   \n",
              "\n",
              "   Infections and infestations  \\\n",
              "0                          0.0   \n",
              "1                          1.0   \n",
              "2                          1.0   \n",
              "3                          0.0   \n",
              "4                          1.0   \n",
              "\n",
              "   Respiratory, thoracic and mediastinal disorders  Psychiatric disorders  \\\n",
              "0                                              1.0                    1.0   \n",
              "1                                              1.0                    0.0   \n",
              "2                                              1.0                    1.0   \n",
              "3                                              0.0                    0.0   \n",
              "4                                              1.0                    1.0   \n",
              "\n",
              "   Renal and urinary disorders  \\\n",
              "0                          0.0   \n",
              "1                          0.0   \n",
              "2                          1.0   \n",
              "3                          0.0   \n",
              "4                          0.0   \n",
              "\n",
              "   Pregnancy, puerperium and perinatal conditions  \\\n",
              "0                                             0.0   \n",
              "1                                             0.0   \n",
              "2                                             0.0   \n",
              "3                                             0.0   \n",
              "4                                             0.0   \n",
              "\n",
              "   Ear and labyrinth disorders  Cardiac disorders  Nervous system disorders  \\\n",
              "0                          1.0                1.0                       1.0   \n",
              "1                          0.0                0.0                       1.0   \n",
              "2                          1.0                1.0                       1.0   \n",
              "3                          0.0                0.0                       0.0   \n",
              "4                          0.0                1.0                       1.0   \n",
              "\n",
              "   Injury, poisoning and procedural complications  \n",
              "0                                             0.0  \n",
              "1                                             0.0  \n",
              "2                                             1.0  \n",
              "3                                             0.0  \n",
              "4                                             1.0  \n",
              "\n",
              "[5 rows x 28 columns]"
            ],
            "text/html": [
              "\n",
              "  <div id=\"df-f1872d7e-d9b6-471a-a64d-b63e1d7d2ed8\" class=\"colab-df-container\">\n",
              "    <div>\n",
              "<style scoped>\n",
              "    .dataframe tbody tr th:only-of-type {\n",
              "        vertical-align: middle;\n",
              "    }\n",
              "\n",
              "    .dataframe tbody tr th {\n",
              "        vertical-align: top;\n",
              "    }\n",
              "\n",
              "    .dataframe thead th {\n",
              "        text-align: right;\n",
              "    }\n",
              "</style>\n",
              "<table border=\"1\" class=\"dataframe\">\n",
              "  <thead>\n",
              "    <tr style=\"text-align: right;\">\n",
              "      <th></th>\n",
              "      <th>SMILES</th>\n",
              "      <th>Hepatobiliary disorders</th>\n",
              "      <th>Metabolism and nutrition disorders</th>\n",
              "      <th>Product issues</th>\n",
              "      <th>Eye disorders</th>\n",
              "      <th>Investigations</th>\n",
              "      <th>Musculoskeletal and connective tissue disorders</th>\n",
              "      <th>Gastrointestinal disorders</th>\n",
              "      <th>Social circumstances</th>\n",
              "      <th>Immune system disorders</th>\n",
              "      <th>...</th>\n",
              "      <th>Congenital, familial and genetic disorders</th>\n",
              "      <th>Infections and infestations</th>\n",
              "      <th>Respiratory, thoracic and mediastinal disorders</th>\n",
              "      <th>Psychiatric disorders</th>\n",
              "      <th>Renal and urinary disorders</th>\n",
              "      <th>Pregnancy, puerperium and perinatal conditions</th>\n",
              "      <th>Ear and labyrinth disorders</th>\n",
              "      <th>Cardiac disorders</th>\n",
              "      <th>Nervous system disorders</th>\n",
              "      <th>Injury, poisoning and procedural complications</th>\n",
              "    </tr>\n",
              "  </thead>\n",
              "  <tbody>\n",
              "    <tr>\n",
              "      <th>0</th>\n",
              "      <td>C(CNCCNCCNCCN)N</td>\n",
              "      <td>1.0</td>\n",
              "      <td>1.0</td>\n",
              "      <td>0.0</td>\n",
              "      <td>0.0</td>\n",
              "      <td>1.0</td>\n",
              "      <td>1.0</td>\n",
              "      <td>1.0</td>\n",
              "      <td>0.0</td>\n",
              "      <td>0.0</td>\n",
              "      <td>...</td>\n",
              "      <td>0.0</td>\n",
              "      <td>0.0</td>\n",
              "      <td>1.0</td>\n",
              "      <td>1.0</td>\n",
              "      <td>0.0</td>\n",
              "      <td>0.0</td>\n",
              "      <td>1.0</td>\n",
              "      <td>1.0</td>\n",
              "      <td>1.0</td>\n",
              "      <td>0.0</td>\n",
              "    </tr>\n",
              "    <tr>\n",
              "      <th>1</th>\n",
              "      <td>Cl[Tl]</td>\n",
              "      <td>0.0</td>\n",
              "      <td>0.0</td>\n",
              "      <td>0.0</td>\n",
              "      <td>1.0</td>\n",
              "      <td>1.0</td>\n",
              "      <td>0.0</td>\n",
              "      <td>1.0</td>\n",
              "      <td>0.0</td>\n",
              "      <td>1.0</td>\n",
              "      <td>...</td>\n",
              "      <td>0.0</td>\n",
              "      <td>1.0</td>\n",
              "      <td>1.0</td>\n",
              "      <td>0.0</td>\n",
              "      <td>0.0</td>\n",
              "      <td>0.0</td>\n",
              "      <td>0.0</td>\n",
              "      <td>0.0</td>\n",
              "      <td>1.0</td>\n",
              "      <td>0.0</td>\n",
              "    </tr>\n",
              "    <tr>\n",
              "      <th>2</th>\n",
              "      <td>C[N+](C)(C)CC(CC(=O)O)O</td>\n",
              "      <td>0.0</td>\n",
              "      <td>1.0</td>\n",
              "      <td>0.0</td>\n",
              "      <td>1.0</td>\n",
              "      <td>1.0</td>\n",
              "      <td>1.0</td>\n",
              "      <td>1.0</td>\n",
              "      <td>0.0</td>\n",
              "      <td>1.0</td>\n",
              "      <td>...</td>\n",
              "      <td>0.0</td>\n",
              "      <td>1.0</td>\n",
              "      <td>1.0</td>\n",
              "      <td>1.0</td>\n",
              "      <td>1.0</td>\n",
              "      <td>0.0</td>\n",
              "      <td>1.0</td>\n",
              "      <td>1.0</td>\n",
              "      <td>1.0</td>\n",
              "      <td>1.0</td>\n",
              "    </tr>\n",
              "    <tr>\n",
              "      <th>3</th>\n",
              "      <td>C(CC(=O)O)CN</td>\n",
              "      <td>0.0</td>\n",
              "      <td>0.0</td>\n",
              "      <td>0.0</td>\n",
              "      <td>0.0</td>\n",
              "      <td>0.0</td>\n",
              "      <td>0.0</td>\n",
              "      <td>0.0</td>\n",
              "      <td>0.0</td>\n",
              "      <td>1.0</td>\n",
              "      <td>...</td>\n",
              "      <td>0.0</td>\n",
              "      <td>0.0</td>\n",
              "      <td>0.0</td>\n",
              "      <td>0.0</td>\n",
              "      <td>0.0</td>\n",
              "      <td>0.0</td>\n",
              "      <td>0.0</td>\n",
              "      <td>0.0</td>\n",
              "      <td>0.0</td>\n",
              "      <td>0.0</td>\n",
              "    </tr>\n",
              "    <tr>\n",
              "      <th>4</th>\n",
              "      <td>C(CC(=O)O)C(=O)CN</td>\n",
              "      <td>1.0</td>\n",
              "      <td>0.0</td>\n",
              "      <td>0.0</td>\n",
              "      <td>1.0</td>\n",
              "      <td>1.0</td>\n",
              "      <td>0.0</td>\n",
              "      <td>1.0</td>\n",
              "      <td>0.0</td>\n",
              "      <td>0.0</td>\n",
              "      <td>...</td>\n",
              "      <td>0.0</td>\n",
              "      <td>1.0</td>\n",
              "      <td>1.0</td>\n",
              "      <td>1.0</td>\n",
              "      <td>0.0</td>\n",
              "      <td>0.0</td>\n",
              "      <td>0.0</td>\n",
              "      <td>1.0</td>\n",
              "      <td>1.0</td>\n",
              "      <td>1.0</td>\n",
              "    </tr>\n",
              "  </tbody>\n",
              "</table>\n",
              "<p>5 rows × 28 columns</p>\n",
              "</div>\n",
              "    <div class=\"colab-df-buttons\">\n",
              "\n",
              "  <div class=\"colab-df-container\">\n",
              "    <button class=\"colab-df-convert\" onclick=\"convertToInteractive('df-f1872d7e-d9b6-471a-a64d-b63e1d7d2ed8')\"\n",
              "            title=\"Convert this dataframe to an interactive table.\"\n",
              "            style=\"display:none;\">\n",
              "\n",
              "  <svg xmlns=\"http://www.w3.org/2000/svg\" height=\"24px\" viewBox=\"0 -960 960 960\">\n",
              "    <path d=\"M120-120v-720h720v720H120Zm60-500h600v-160H180v160Zm220 220h160v-160H400v160Zm0 220h160v-160H400v160ZM180-400h160v-160H180v160Zm440 0h160v-160H620v160ZM180-180h160v-160H180v160Zm440 0h160v-160H620v160Z\"/>\n",
              "  </svg>\n",
              "    </button>\n",
              "\n",
              "  <style>\n",
              "    .colab-df-container {\n",
              "      display:flex;\n",
              "      gap: 12px;\n",
              "    }\n",
              "\n",
              "    .colab-df-convert {\n",
              "      background-color: #E8F0FE;\n",
              "      border: none;\n",
              "      border-radius: 50%;\n",
              "      cursor: pointer;\n",
              "      display: none;\n",
              "      fill: #1967D2;\n",
              "      height: 32px;\n",
              "      padding: 0 0 0 0;\n",
              "      width: 32px;\n",
              "    }\n",
              "\n",
              "    .colab-df-convert:hover {\n",
              "      background-color: #E2EBFA;\n",
              "      box-shadow: 0px 1px 2px rgba(60, 64, 67, 0.3), 0px 1px 3px 1px rgba(60, 64, 67, 0.15);\n",
              "      fill: #174EA6;\n",
              "    }\n",
              "\n",
              "    .colab-df-buttons div {\n",
              "      margin-bottom: 4px;\n",
              "    }\n",
              "\n",
              "    [theme=dark] .colab-df-convert {\n",
              "      background-color: #3B4455;\n",
              "      fill: #D2E3FC;\n",
              "    }\n",
              "\n",
              "    [theme=dark] .colab-df-convert:hover {\n",
              "      background-color: #434B5C;\n",
              "      box-shadow: 0px 1px 3px 1px rgba(0, 0, 0, 0.15);\n",
              "      filter: drop-shadow(0px 1px 2px rgba(0, 0, 0, 0.3));\n",
              "      fill: #FFFFFF;\n",
              "    }\n",
              "  </style>\n",
              "\n",
              "    <script>\n",
              "      const buttonEl =\n",
              "        document.querySelector('#df-f1872d7e-d9b6-471a-a64d-b63e1d7d2ed8 button.colab-df-convert');\n",
              "      buttonEl.style.display =\n",
              "        google.colab.kernel.accessAllowed ? 'block' : 'none';\n",
              "\n",
              "      async function convertToInteractive(key) {\n",
              "        const element = document.querySelector('#df-f1872d7e-d9b6-471a-a64d-b63e1d7d2ed8');\n",
              "        const dataTable =\n",
              "          await google.colab.kernel.invokeFunction('convertToInteractive',\n",
              "                                                    [key], {});\n",
              "        if (!dataTable) return;\n",
              "\n",
              "        const docLinkHtml = 'Like what you see? Visit the ' +\n",
              "          '<a target=\"_blank\" href=https://colab.research.google.com/notebooks/data_table.ipynb>data table notebook</a>'\n",
              "          + ' to learn more about interactive tables.';\n",
              "        element.innerHTML = '';\n",
              "        dataTable['output_type'] = 'display_data';\n",
              "        await google.colab.output.renderOutput(dataTable, element);\n",
              "        const docLink = document.createElement('div');\n",
              "        docLink.innerHTML = docLinkHtml;\n",
              "        element.appendChild(docLink);\n",
              "      }\n",
              "    </script>\n",
              "  </div>\n",
              "\n",
              "\n",
              "    <div id=\"df-b492a1bb-570b-4851-8b19-03ab018c9de9\">\n",
              "      <button class=\"colab-df-quickchart\" onclick=\"quickchart('df-b492a1bb-570b-4851-8b19-03ab018c9de9')\"\n",
              "                title=\"Suggest charts\"\n",
              "                style=\"display:none;\">\n",
              "\n",
              "<svg xmlns=\"http://www.w3.org/2000/svg\" height=\"24px\"viewBox=\"0 0 24 24\"\n",
              "     width=\"24px\">\n",
              "    <g>\n",
              "        <path d=\"M19 3H5c-1.1 0-2 .9-2 2v14c0 1.1.9 2 2 2h14c1.1 0 2-.9 2-2V5c0-1.1-.9-2-2-2zM9 17H7v-7h2v7zm4 0h-2V7h2v10zm4 0h-2v-4h2v4z\"/>\n",
              "    </g>\n",
              "</svg>\n",
              "      </button>\n",
              "\n",
              "<style>\n",
              "  .colab-df-quickchart {\n",
              "      --bg-color: #E8F0FE;\n",
              "      --fill-color: #1967D2;\n",
              "      --hover-bg-color: #E2EBFA;\n",
              "      --hover-fill-color: #174EA6;\n",
              "      --disabled-fill-color: #AAA;\n",
              "      --disabled-bg-color: #DDD;\n",
              "  }\n",
              "\n",
              "  [theme=dark] .colab-df-quickchart {\n",
              "      --bg-color: #3B4455;\n",
              "      --fill-color: #D2E3FC;\n",
              "      --hover-bg-color: #434B5C;\n",
              "      --hover-fill-color: #FFFFFF;\n",
              "      --disabled-bg-color: #3B4455;\n",
              "      --disabled-fill-color: #666;\n",
              "  }\n",
              "\n",
              "  .colab-df-quickchart {\n",
              "    background-color: var(--bg-color);\n",
              "    border: none;\n",
              "    border-radius: 50%;\n",
              "    cursor: pointer;\n",
              "    display: none;\n",
              "    fill: var(--fill-color);\n",
              "    height: 32px;\n",
              "    padding: 0;\n",
              "    width: 32px;\n",
              "  }\n",
              "\n",
              "  .colab-df-quickchart:hover {\n",
              "    background-color: var(--hover-bg-color);\n",
              "    box-shadow: 0 1px 2px rgba(60, 64, 67, 0.3), 0 1px 3px 1px rgba(60, 64, 67, 0.15);\n",
              "    fill: var(--button-hover-fill-color);\n",
              "  }\n",
              "\n",
              "  .colab-df-quickchart-complete:disabled,\n",
              "  .colab-df-quickchart-complete:disabled:hover {\n",
              "    background-color: var(--disabled-bg-color);\n",
              "    fill: var(--disabled-fill-color);\n",
              "    box-shadow: none;\n",
              "  }\n",
              "\n",
              "  .colab-df-spinner {\n",
              "    border: 2px solid var(--fill-color);\n",
              "    border-color: transparent;\n",
              "    border-bottom-color: var(--fill-color);\n",
              "    animation:\n",
              "      spin 1s steps(1) infinite;\n",
              "  }\n",
              "\n",
              "  @keyframes spin {\n",
              "    0% {\n",
              "      border-color: transparent;\n",
              "      border-bottom-color: var(--fill-color);\n",
              "      border-left-color: var(--fill-color);\n",
              "    }\n",
              "    20% {\n",
              "      border-color: transparent;\n",
              "      border-left-color: var(--fill-color);\n",
              "      border-top-color: var(--fill-color);\n",
              "    }\n",
              "    30% {\n",
              "      border-color: transparent;\n",
              "      border-left-color: var(--fill-color);\n",
              "      border-top-color: var(--fill-color);\n",
              "      border-right-color: var(--fill-color);\n",
              "    }\n",
              "    40% {\n",
              "      border-color: transparent;\n",
              "      border-right-color: var(--fill-color);\n",
              "      border-top-color: var(--fill-color);\n",
              "    }\n",
              "    60% {\n",
              "      border-color: transparent;\n",
              "      border-right-color: var(--fill-color);\n",
              "    }\n",
              "    80% {\n",
              "      border-color: transparent;\n",
              "      border-right-color: var(--fill-color);\n",
              "      border-bottom-color: var(--fill-color);\n",
              "    }\n",
              "    90% {\n",
              "      border-color: transparent;\n",
              "      border-bottom-color: var(--fill-color);\n",
              "    }\n",
              "  }\n",
              "</style>\n",
              "\n",
              "      <script>\n",
              "        async function quickchart(key) {\n",
              "          const quickchartButtonEl =\n",
              "            document.querySelector('#' + key + ' button');\n",
              "          quickchartButtonEl.disabled = true;  // To prevent multiple clicks.\n",
              "          quickchartButtonEl.classList.add('colab-df-spinner');\n",
              "          try {\n",
              "            const charts = await google.colab.kernel.invokeFunction(\n",
              "                'suggestCharts', [key], {});\n",
              "          } catch (error) {\n",
              "            console.error('Error during call to suggestCharts:', error);\n",
              "          }\n",
              "          quickchartButtonEl.classList.remove('colab-df-spinner');\n",
              "          quickchartButtonEl.classList.add('colab-df-quickchart-complete');\n",
              "        }\n",
              "        (() => {\n",
              "          let quickchartButtonEl =\n",
              "            document.querySelector('#df-b492a1bb-570b-4851-8b19-03ab018c9de9 button');\n",
              "          quickchartButtonEl.style.display =\n",
              "            google.colab.kernel.accessAllowed ? 'block' : 'none';\n",
              "        })();\n",
              "      </script>\n",
              "    </div>\n",
              "\n",
              "    </div>\n",
              "  </div>\n"
            ],
            "application/vnd.google.colaboratory.intrinsic+json": {
              "type": "dataframe",
              "variable_name": "df"
            }
          },
          "metadata": {},
          "execution_count": 4
        }
      ]
    },
    {
      "cell_type": "markdown",
      "source": [
        "In this project, our goal is to develop a machine learning model that predicts physiological side effects of drug molecules based on their chemical structure. Each molecule is represented by molecular descriptors derived from its SMILES notation, and the target output consists of 27 binary labels corresponding to physiological side effect categories. This represents a multi-label classification problem, where each compound can be associated with multiple side effects simultaneously.\n",
        "\n",
        "In drug discovery, predicting adverse side effects before clinical testing can: Reduce the risk of toxicity in early drug candidates Help prioritize safer compounds Save significant time and cost in development So, our proposed model essentially acts as a computational toxicity screener, a decision-support tool for medicinal chemists."
      ],
      "metadata": {
        "id": "NJC0KJZ0en2n"
      }
    },
    {
      "cell_type": "markdown",
      "source": [
        "From the preveius model we know that we had no invalid SMILES so we don't have to clean the data."
      ],
      "metadata": {
        "id": "E3aOdm0lfazV"
      }
    },
    {
      "cell_type": "markdown",
      "source": [
        "#**1.2) Featurizing**\n",
        "\n",
        "We'll try two different molecular featurization strategies.\n",
        "\n",
        "In the first case, we used circular fingerpints, which are binary.\n",
        "\n",
        "For the second featurizer we chose **RDKdescriptors**. As said before, this descriptor compliments nicely since it allows us to add global molecular fingerprints, it includes physicochemical descriptors (molecular weight, logP, H-bond donors/acceptors, etc.), it's easier to interpret and lower dimensional than bit-based fingerprints, and often better for property prediction or toxicity-related endpoints\n",
        "\n",
        "As a third, we chose **MACCSKeysFingerprint**."
      ],
      "metadata": {
        "id": "gj2aepMGb73i"
      }
    },
    {
      "cell_type": "markdown",
      "source": [
        "### Circular Fingerprints\n",
        "When we uploaded the Data we already featurized the DataSet with Circular Fingerprints, so now we change the variable names to use them an compare in the model. This featurizer will allow us compare the previous results from the Random Forest Classification model that also used this featurizer."
      ],
      "metadata": {
        "id": "Dg0-DULJkwG5"
      }
    },
    {
      "cell_type": "code",
      "source": [
        "# Featurizing: Circular Fingerprints for SIDER\n",
        "\n",
        "# The features generated by the CircularFingerprint featurizer during load are stored in .X\n",
        "X_train_morgan = train_dataset.X\n",
        "\n",
        "# The binary targets (27 side effects) are stored in .y\n",
        "y_train_sider = train_dataset.y\n",
        "\n",
        "# The SMILES strings are stored in .ids (needed for the other featurizers)\n",
        "ids_train = train_dataset.ids\n",
        "\n",
        "# Create a DataFrame for the Morgan FP features\n",
        "morgan_fp_columns = [f'fp_{i}' for i in range(2048)]\n",
        "df_morgan_sider_train = pd.DataFrame(X_train_morgan, columns=morgan_fp_columns)\n",
        "\n",
        "# Assign the final variables used in the rest of the modeling\n",
        "X_train = df_morgan_sider_train # Morgan FP (The first feature set)\n",
        "y_train = y_train_sider         # Target Labels"
      ],
      "metadata": {
        "id": "bGIQ9CkfoZV7"
      },
      "execution_count": 5,
      "outputs": []
    },
    {
      "cell_type": "markdown",
      "source": [
        "### RDKit Descriptors\n",
        "This featurizer will allow us compare the previous results from the Random Forest Classification model that also used this featurizer."
      ],
      "metadata": {
        "id": "H5aiRVCqoTx1"
      }
    },
    {
      "cell_type": "code",
      "source": [
        "import numpy as np\n",
        "# Featurizing: RDKit Descriptors for SIDER\n",
        "\n",
        "rdkit_desc_featurizer = dc.feat.RDKitDescriptors()\n",
        "\n",
        "# RDKit Descriptors using the SMILES strings\n",
        "X_desc_sider_train = rdkit_desc_featurizer.featurize(ids_train.tolist())\n",
        "\n",
        "# Handle NaN values: replace with 0\n",
        "X_desc_sider_train[np.isnan(X_desc_sider_train)] = 0\n",
        "\n",
        "# Get the descriptor names\n",
        "descriptor_names = rdkit_desc_featurizer.descriptors\n",
        "\n",
        "# Create the final DataFrame for this feature set\n",
        "df_desc_sider_train = pd.DataFrame(X_desc_sider_train, columns=descriptor_names)"
      ],
      "metadata": {
        "colab": {
          "base_uri": "https://localhost:8080/"
        },
        "collapsed": true,
        "id": "je-QBk0Oj_hk",
        "outputId": "ebb30aa1-a4b4-45d3-ff21-8d15773edec8"
      },
      "execution_count": 6,
      "outputs": [
        {
          "output_type": "stream",
          "name": "stderr",
          "text": [
            "[17:31:28] WARNING: not removing hydrogen atom without neighbors\n",
            "[17:31:28] WARNING: not removing hydrogen atom without neighbors\n",
            "[17:31:28] WARNING: not removing hydrogen atom without neighbors\n",
            "[17:31:28] WARNING: not removing hydrogen atom without neighbors\n",
            "[17:31:28] WARNING: not removing hydrogen atom without neighbors\n",
            "[17:31:28] WARNING: not removing hydrogen atom without neighbors\n",
            "[17:31:28] WARNING: not removing hydrogen atom without neighbors\n",
            "[17:31:28] WARNING: not removing hydrogen atom without neighbors\n",
            "[17:31:28] WARNING: not removing hydrogen atom without neighbors\n",
            "[17:31:28] WARNING: not removing hydrogen atom without neighbors\n",
            "[17:31:28] WARNING: not removing hydrogen atom without neighbors\n",
            "[17:31:28] WARNING: not removing hydrogen atom without neighbors\n",
            "[17:31:29] WARNING: not removing hydrogen atom without neighbors\n",
            "[17:31:29] WARNING: not removing hydrogen atom without neighbors\n",
            "[17:31:29] WARNING: not removing hydrogen atom without neighbors\n",
            "[17:31:29] WARNING: not removing hydrogen atom without neighbors\n",
            "[17:31:30] WARNING: not removing hydrogen atom without neighbors\n",
            "[17:31:30] WARNING: not removing hydrogen atom without neighbors\n",
            "[17:31:30] WARNING: not removing hydrogen atom without neighbors\n",
            "[17:31:30] WARNING: not removing hydrogen atom without neighbors\n",
            "[17:32:25] WARNING: not removing hydrogen atom without neighbors\n",
            "[17:32:25] WARNING: not removing hydrogen atom without neighbors\n",
            "[17:32:25] WARNING: not removing hydrogen atom without neighbors\n",
            "[17:32:25] WARNING: not removing hydrogen atom without neighbors\n",
            "[17:32:25] WARNING: not removing hydrogen atom without neighbors\n",
            "[17:32:25] WARNING: not removing hydrogen atom without neighbors\n"
          ]
        }
      ]
    },
    {
      "cell_type": "markdown",
      "source": [
        "### MACCSKeysFingerprint\n",
        "Since we use Circular Fingerprints, we now want to counterbalance this with a more direct featurizer. That is why we chose MACCS Keys as a low-complexity representation (166 bits). If our model works well, we can know that the prediction is based on the fundamental chemical or structural rules that MACCS Keys can see."
      ],
      "metadata": {
        "id": "mDN0kapze6BO"
      }
    },
    {
      "cell_type": "code",
      "source": [
        "# MACCS Keys Fingerprints\n",
        "print(\"Featurizing: MACCS Keys Fingerprints for SIDER\")\n",
        "\n",
        "# Initialize the MACCS Keys Featurizer.\n",
        "maccs_featurizer = dc.feat.MACCSKeysFingerprint()\n",
        "\n",
        "# Featurize the SMILES\n",
        "X_maccs_sider_train = maccs_featurizer.featurize(ids_train.tolist())\n",
        "\n",
        "# Define maccs_size based on the featurizer's output shape\n",
        "maccs_size = X_maccs_sider_train.shape[1]\n",
        "\n",
        "# Create a DataFrame for the MACCS Keys\n",
        "df_maccs_sider_train = pd.DataFrame(X_maccs_sider_train, columns=[f'maccs_{i}' for i in range(maccs_size)])\n",
        "\n",
        "print(f\"MACCS Keys Fingerprints dimensions for SIDER: {df_maccs_sider_train.shape}\")"
      ],
      "metadata": {
        "colab": {
          "base_uri": "https://localhost:8080/"
        },
        "collapsed": true,
        "id": "_MYjBqPBgXOI",
        "outputId": "0308a551-7868-4cef-b562-68ed02de0b1c"
      },
      "execution_count": 7,
      "outputs": [
        {
          "output_type": "stream",
          "name": "stdout",
          "text": [
            "Featurizing: MACCS Keys Fingerprints for SIDER\n"
          ]
        },
        {
          "output_type": "stream",
          "name": "stderr",
          "text": [
            "[17:32:27] WARNING: not removing hydrogen atom without neighbors\n",
            "[17:32:27] WARNING: not removing hydrogen atom without neighbors\n",
            "[17:32:27] WARNING: not removing hydrogen atom without neighbors\n",
            "[17:32:27] WARNING: not removing hydrogen atom without neighbors\n",
            "[17:32:27] WARNING: not removing hydrogen atom without neighbors\n",
            "[17:32:27] WARNING: not removing hydrogen atom without neighbors\n",
            "[17:32:27] WARNING: not removing hydrogen atom without neighbors\n",
            "[17:32:27] WARNING: not removing hydrogen atom without neighbors\n",
            "[17:32:27] WARNING: not removing hydrogen atom without neighbors\n",
            "[17:32:27] WARNING: not removing hydrogen atom without neighbors\n",
            "[17:32:28] WARNING: not removing hydrogen atom without neighbors\n",
            "[17:32:28] WARNING: not removing hydrogen atom without neighbors\n",
            "[17:32:28] WARNING: not removing hydrogen atom without neighbors\n"
          ]
        },
        {
          "output_type": "stream",
          "name": "stdout",
          "text": [
            "MACCS Keys Fingerprints dimensions for SIDER: (1141, 167)\n"
          ]
        }
      ]
    },
    {
      "cell_type": "markdown",
      "source": [
        "#**1.3) Models**\n",
        "\n",
        "First we split the data into the training and testing groups. The chosen models for this project are **Random Forest Regression** as a classic ML model and **Multi Layer Perceptron** as a neural network-based model as it was used in the Regression algorithms."
      ],
      "metadata": {
        "id": "DM4b7R2QkEEZ"
      }
    },
    {
      "cell_type": "code",
      "source": [
        "# Random Forest Classifier\n",
        "from sklearn.ensemble import RandomForestClassifier\n",
        "\n",
        "rf = RandomForestClassifier(\n",
        "    n_estimators=300,\n",
        "    max_depth=None,\n",
        "    random_state=0,\n",
        "    n_jobs=-1 # allows for parallel computation\n",
        ")"
      ],
      "metadata": {
        "id": "4kw0owCbigGz"
      },
      "execution_count": 8,
      "outputs": []
    },
    {
      "cell_type": "markdown",
      "source": [
        "##Multi Layer Perceptron\n",
        "We chose this model as a neural network-based model."
      ],
      "metadata": {
        "id": "wt_XeakdmcsL"
      }
    },
    {
      "cell_type": "code",
      "source": [
        "# MLP Classifier\n",
        "from sklearn.neural_network import MLPClassifier\n",
        "from sklearn.preprocessing import StandardScaler\n",
        "from sklearn.metrics import roc_auc_score\n",
        "\n",
        "# Initialize MLP model (using a simple, effective architecture)\n",
        "mlp = MLPClassifier(\n",
        "    hidden_layer_sizes=(100, 50),\n",
        "    max_iter=500,\n",
        "    random_state=42,\n",
        "    early_stopping=True,\n",
        "    n_iter_no_change=20)\n",
        "\n",
        "# As we need to scale the data, it will remain defined as the standar scaler\n",
        "scaler = StandardScaler()\n"
      ],
      "metadata": {
        "id": "DmhKrSRAmJoT"
      },
      "execution_count": 9,
      "outputs": []
    },
    {
      "cell_type": "markdown",
      "source": [
        "We split the Morgan FP data using 80% of the data to train and 20% test for internal evaluation, as recommended in Moleculenet.org."
      ],
      "metadata": {
        "id": "-fpGRzbyjIyB"
      }
    },
    {
      "cell_type": "markdown",
      "source": [
        "#**1.4) Training and evaluating the models**\n",
        "\n",
        "We will train the model with the 3 different featurizers before evaluating. In this case we need the feature tu be scaled.\n"
      ],
      "metadata": {
        "id": "r4k1LXd7kWpJ"
      }
    },
    {
      "cell_type": "code",
      "source": [
        "# MLP Classifier with Morgan FP\n",
        "\n",
        "# Extract Features and Targets\n",
        "X_tr = train_dataset.X\n",
        "Y_tr = train_dataset.y\n",
        "\n",
        "# Morgan FP features and targets from the test set\n",
        "X_te = test_dataset.X\n",
        "Y_te = test_dataset.y\n",
        "\n",
        "print(f\"Training Features (X) shape: {X_tr.shape}\")\n",
        "print(f\"Test Features (X) shape: {X_te.shape}\")\n",
        "\n",
        "# Feature Scaling: CRUCIAL for Neural Networks\n",
        "\n",
        "# Initialize and fit the scaler ONLY on the training data (X_tr)\n",
        "X_tr_scaled = scaler.fit_transform(X_tr)\n",
        "\n",
        "# Apply the fitted scaler to the test data\n",
        "X_te_scaled = scaler.transform(X_te)\n",
        "\n",
        "print(\"Scaling complete.\")"
      ],
      "metadata": {
        "colab": {
          "base_uri": "https://localhost:8080/"
        },
        "id": "cmKiwWgSnjgN",
        "outputId": "58bf3bad-f082-461f-a92f-0d8ad31f9d0c"
      },
      "execution_count": 10,
      "outputs": [
        {
          "output_type": "stream",
          "name": "stdout",
          "text": [
            "Training Features (X) shape: (1141, 2048)\n",
            "Test Features (X) shape: (143, 2048)\n",
            "Scaling complete.\n"
          ]
        }
      ]
    },
    {
      "cell_type": "code",
      "source": [
        "# Training and Evaluation of MLP Classifier with Morgan Fingerprints\n",
        "results_sider = [] # To store the results\n",
        "\n",
        "# Train the model: We fit on the scaled training features and the training targets\n",
        "mlp.fit(X_tr_scaled, Y_tr)\n",
        "\n",
        "# Predict probabilities (for ROC-AUC)\n",
        "Y_pred_proba_mlp_morgan = mlp.predict_proba(X_te_scaled)\n",
        "\n",
        "# Evaluate performance (Multi-task ROC AUC)\n",
        "roc_auc_mlp_morgan = roc_auc_score(Y_te, Y_pred_proba_mlp_morgan, average='weighted')\n",
        "\n",
        "# We save the results\n",
        "results_sider.append({\n",
        "     'Model': 'MLP Neural Network',\n",
        "     'Featurizer': 'Morgan Fingerprints',\n",
        "     'ROC AUC (Weighted)': roc_auc_mlp_morgan\n",
        " })\n",
        "\n",
        "print(f\"MLP (Morgan FP) Results: ROC AUC (Weighted) = {roc_auc_mlp_morgan:.4f}\")"
      ],
      "metadata": {
        "id": "bE9pRpC8uRev",
        "outputId": "8213fffc-f93c-4e25-d4ea-026778202891",
        "colab": {
          "base_uri": "https://localhost:8080/"
        }
      },
      "execution_count": 11,
      "outputs": [
        {
          "output_type": "stream",
          "name": "stdout",
          "text": [
            "MLP (Morgan FP) Results: ROC AUC (Weighted) = 0.6025\n"
          ]
        }
      ]
    },
    {
      "cell_type": "markdown",
      "source": [
        "Next featurizer in the MLP Model: **RDKit Descriptors**\n",
        "\n",
        "Note: The train features were already created before."
      ],
      "metadata": {
        "id": "hmXoGk5pveGb"
      }
    },
    {
      "cell_type": "code",
      "source": [
        "#Generate RDKit Descriptors\n",
        "\n",
        "# Use the existing featurizer to generate test features from test_dataset.ids\n",
        "X_te_desc = rdkit_desc_featurizer.featurize(test_dataset.ids.tolist())\n",
        "\n",
        "# Handle NaN values in the test set: replace with 0\n",
        "X_te_desc[np.isnan(X_te_desc)] = 0\n",
        "\n",
        "# Convert the training features DataFrame back to a NumPy array for seamless scaling\n",
        "X_tr_desc = df_desc_sider_train.values\n",
        "\n",
        "print(f\"Training Features (X) shape: {X_tr.shape}\")\n",
        "print(f\"RDKit Descriptor Test Features (X) shape: {X_te_desc.shape}\")\n",
        "\n",
        "\n",
        "# Feature Scaling: CRUCIAL for Neural Networks\n",
        "# Initialize and fit the scaler ONLY on the training data (X_tr_desc)\n",
        "X_tr_scaled = scaler.fit_transform(X_tr_desc)\n",
        "\n",
        "# Apply the fitted scaler to the test data\n",
        "X_te_scaled = scaler.transform(X_te_desc)\n",
        "\n",
        "print(\"Scaling complete.\")"
      ],
      "metadata": {
        "id": "tMdP6uQQvjsr",
        "outputId": "91dde8b0-9954-4a49-9016-f2f4b1b60f08",
        "colab": {
          "base_uri": "https://localhost:8080/"
        }
      },
      "execution_count": 12,
      "outputs": [
        {
          "output_type": "stream",
          "name": "stdout",
          "text": [
            "Training Features (X) shape: (1141, 2048)\n",
            "RDKit Descriptor Test Features (X) shape: (143, 217)\n",
            "Scaling complete.\n"
          ]
        }
      ]
    },
    {
      "cell_type": "code",
      "source": [
        "# Training and Evaluation of MLP Classifier with RDKit Descriptors\n",
        "\n",
        "# Train the model\n",
        "mlp.fit(X_tr_scaled, Y_tr)\n",
        "\n",
        "# Predict probabilities\n",
        "Y_pred_proba_mlp_desc = mlp.predict_proba(X_te_scaled)\n",
        "\n",
        "# Evaluate performance (Multi-task ROC AUC)\n",
        "roc_auc_mlp_desc = roc_auc_score(Y_te, Y_pred_proba_mlp_desc, average='weighted')\n",
        "\n",
        "# We save the results\n",
        "results_sider.append({\n",
        "     'Model': 'MLP Neural Network',\n",
        "     'Featurizer': 'RDKit Descriptors',\n",
        "     'ROC AUC (Weighted)': roc_auc_mlp_desc})\n",
        "\n",
        "print(f\"MLP (RDKit Descriptors) Results: ROC AUC (Weighted) = {roc_auc_mlp_desc:.4f}\")"
      ],
      "metadata": {
        "id": "IIO9Cm-zxQCz",
        "outputId": "98f72fa5-25e9-4e7b-d557-4c0b537dcf6e",
        "colab": {
          "base_uri": "https://localhost:8080/"
        }
      },
      "execution_count": 13,
      "outputs": [
        {
          "output_type": "stream",
          "name": "stdout",
          "text": [
            "MLP (RDKit Descriptors) Results: ROC AUC (Weighted) = 0.5512\n"
          ]
        }
      ]
    },
    {
      "cell_type": "markdown",
      "source": [
        "Next featurizer in the MLP Model: **MACCS Keys**\n",
        "\n",
        "Note: The train features were already created before."
      ],
      "metadata": {
        "id": "fqFd8gZQy6wP"
      }
    },
    {
      "cell_type": "code",
      "source": [
        "# Generate MACCS Keys\n",
        "\n",
        "# MACCS Keys for the TEST set from test_dataset.ids\n",
        "X_te_maccs = maccs_featurizer.featurize(test_dataset.ids.tolist())\n",
        "\n",
        "# We must ensure X_tr_maccs is defined here for the scaler.\n",
        "X_tr_maccs = maccs_featurizer.featurize(train_dataset.ids.tolist())\n",
        "\n",
        "print(f\"Training Features (X) shape: {X_tr.shape}\")\n",
        "print(f\"MACCS Keys Test Features (X) shape: {X_te_desc.shape}\")\n",
        "\n",
        "# Feature Scaling\n",
        "# Initialize and fit the scaler ONLY on the training data (X_tr_maccs)\n",
        "X_tr_scaled = scaler.fit_transform(X_tr_maccs)\n",
        "\n",
        "# Apply the fitted scaler to the test data\n",
        "X_te_scaled = scaler.transform(X_te_maccs)\n",
        "\n",
        "print(\"Scaling complete.\")"
      ],
      "metadata": {
        "id": "IvC9Ln_xy4l-",
        "outputId": "ec36a786-9401-4c58-97ae-5864015052be",
        "colab": {
          "base_uri": "https://localhost:8080/"
        }
      },
      "execution_count": 14,
      "outputs": [
        {
          "output_type": "stream",
          "name": "stderr",
          "text": [
            "[17:33:05] WARNING: not removing hydrogen atom without neighbors\n",
            "[17:33:05] WARNING: not removing hydrogen atom without neighbors\n",
            "[17:33:05] WARNING: not removing hydrogen atom without neighbors\n",
            "[17:33:05] WARNING: not removing hydrogen atom without neighbors\n",
            "[17:33:05] WARNING: not removing hydrogen atom without neighbors\n",
            "[17:33:05] WARNING: not removing hydrogen atom without neighbors\n",
            "[17:33:05] WARNING: not removing hydrogen atom without neighbors\n",
            "[17:33:05] WARNING: not removing hydrogen atom without neighbors\n",
            "[17:33:05] WARNING: not removing hydrogen atom without neighbors\n",
            "[17:33:05] WARNING: not removing hydrogen atom without neighbors\n",
            "[17:33:06] WARNING: not removing hydrogen atom without neighbors\n",
            "[17:33:06] WARNING: not removing hydrogen atom without neighbors\n",
            "[17:33:06] WARNING: not removing hydrogen atom without neighbors\n"
          ]
        },
        {
          "output_type": "stream",
          "name": "stdout",
          "text": [
            "Training Features (X) shape: (1141, 2048)\n",
            "MACCS Keys Test Features (X) shape: (143, 217)\n",
            "Scaling complete.\n"
          ]
        }
      ]
    },
    {
      "cell_type": "code",
      "source": [
        "# Training and Evaluation of MLP Classifier ---\n",
        "\n",
        "# Train the model\n",
        "mlp.fit(X_tr_scaled, Y_tr)\n",
        "\n",
        "# Predict probabilities\n",
        "Y_pred_proba_mlp_maccs = mlp.predict_proba(X_te_scaled)\n",
        "\n",
        "# Evaluate performance (Multi-task ROC AUC)\n",
        "roc_auc_mlp_maccs = roc_auc_score(Y_te, Y_pred_proba_mlp_maccs, average='weighted')\n",
        "\n",
        "# Store results\n",
        "results_sider.append({\n",
        "     'Model': 'MLP Neural Network',\n",
        "     'Featurizer': 'MACCS Keys',\n",
        "     'ROC AUC (Weighted)': roc_auc_mlp_maccs })\n",
        "\n",
        "\n",
        "print(f\"MLP (MACCS Keys) Results: ROC AUC (Weighted) = {roc_auc_mlp_maccs:.4f}\")"
      ],
      "metadata": {
        "id": "NW3QqoXO0WV7",
        "outputId": "217012bb-16b9-4b40-a519-17c82099c8ad",
        "colab": {
          "base_uri": "https://localhost:8080/"
        }
      },
      "execution_count": 15,
      "outputs": [
        {
          "output_type": "stream",
          "name": "stdout",
          "text": [
            "MLP (MACCS Keys) Results: ROC AUC (Weighted) = 0.6275\n"
          ]
        }
      ]
    },
    {
      "cell_type": "markdown",
      "source": [
        "To finalize the training and to chose the best model, we display the table with all the evaluation results of the 3 different featurized MLP model."
      ],
      "metadata": {
        "id": "qnpTONCJ2xl8"
      }
    },
    {
      "cell_type": "code",
      "source": [
        "# Convert the results list into a readable Pandas DataFrame to display\n",
        "df_results_sider = pd.DataFrame(results_sider)\n",
        "\n",
        "# Sort by 'ROC AUC (Weighted)' in descending order (highest score first)\n",
        "df_results_sider = df_results_sider.sort_values(\n",
        "    by='ROC AUC (Weighted)',\n",
        "    ascending=False  # True for ascending, False for descending (best score first)\n",
        ")\n",
        "\n",
        "print(\"SIDER Classification Results\")\n",
        "df_results_sider\n"
      ],
      "metadata": {
        "id": "VP_6_LCf2x-Q",
        "outputId": "a4f72605-cea4-4e61-d0ab-ca96e1f33a9a",
        "colab": {
          "base_uri": "https://localhost:8080/",
          "height": 161
        }
      },
      "execution_count": 16,
      "outputs": [
        {
          "output_type": "stream",
          "name": "stdout",
          "text": [
            "SIDER Classification Results\n"
          ]
        },
        {
          "output_type": "execute_result",
          "data": {
            "text/plain": [
              "                Model           Featurizer  ROC AUC (Weighted)\n",
              "2  MLP Neural Network           MACCS Keys            0.627504\n",
              "0  MLP Neural Network  Morgan Fingerprints            0.602480\n",
              "1  MLP Neural Network    RDKit Descriptors            0.551210"
            ],
            "text/html": [
              "\n",
              "  <div id=\"df-99b0fdb5-6370-44a9-805c-06d4e911977a\" class=\"colab-df-container\">\n",
              "    <div>\n",
              "<style scoped>\n",
              "    .dataframe tbody tr th:only-of-type {\n",
              "        vertical-align: middle;\n",
              "    }\n",
              "\n",
              "    .dataframe tbody tr th {\n",
              "        vertical-align: top;\n",
              "    }\n",
              "\n",
              "    .dataframe thead th {\n",
              "        text-align: right;\n",
              "    }\n",
              "</style>\n",
              "<table border=\"1\" class=\"dataframe\">\n",
              "  <thead>\n",
              "    <tr style=\"text-align: right;\">\n",
              "      <th></th>\n",
              "      <th>Model</th>\n",
              "      <th>Featurizer</th>\n",
              "      <th>ROC AUC (Weighted)</th>\n",
              "    </tr>\n",
              "  </thead>\n",
              "  <tbody>\n",
              "    <tr>\n",
              "      <th>2</th>\n",
              "      <td>MLP Neural Network</td>\n",
              "      <td>MACCS Keys</td>\n",
              "      <td>0.627504</td>\n",
              "    </tr>\n",
              "    <tr>\n",
              "      <th>0</th>\n",
              "      <td>MLP Neural Network</td>\n",
              "      <td>Morgan Fingerprints</td>\n",
              "      <td>0.602480</td>\n",
              "    </tr>\n",
              "    <tr>\n",
              "      <th>1</th>\n",
              "      <td>MLP Neural Network</td>\n",
              "      <td>RDKit Descriptors</td>\n",
              "      <td>0.551210</td>\n",
              "    </tr>\n",
              "  </tbody>\n",
              "</table>\n",
              "</div>\n",
              "    <div class=\"colab-df-buttons\">\n",
              "\n",
              "  <div class=\"colab-df-container\">\n",
              "    <button class=\"colab-df-convert\" onclick=\"convertToInteractive('df-99b0fdb5-6370-44a9-805c-06d4e911977a')\"\n",
              "            title=\"Convert this dataframe to an interactive table.\"\n",
              "            style=\"display:none;\">\n",
              "\n",
              "  <svg xmlns=\"http://www.w3.org/2000/svg\" height=\"24px\" viewBox=\"0 -960 960 960\">\n",
              "    <path d=\"M120-120v-720h720v720H120Zm60-500h600v-160H180v160Zm220 220h160v-160H400v160Zm0 220h160v-160H400v160ZM180-400h160v-160H180v160Zm440 0h160v-160H620v160ZM180-180h160v-160H180v160Zm440 0h160v-160H620v160Z\"/>\n",
              "  </svg>\n",
              "    </button>\n",
              "\n",
              "  <style>\n",
              "    .colab-df-container {\n",
              "      display:flex;\n",
              "      gap: 12px;\n",
              "    }\n",
              "\n",
              "    .colab-df-convert {\n",
              "      background-color: #E8F0FE;\n",
              "      border: none;\n",
              "      border-radius: 50%;\n",
              "      cursor: pointer;\n",
              "      display: none;\n",
              "      fill: #1967D2;\n",
              "      height: 32px;\n",
              "      padding: 0 0 0 0;\n",
              "      width: 32px;\n",
              "    }\n",
              "\n",
              "    .colab-df-convert:hover {\n",
              "      background-color: #E2EBFA;\n",
              "      box-shadow: 0px 1px 2px rgba(60, 64, 67, 0.3), 0px 1px 3px 1px rgba(60, 64, 67, 0.15);\n",
              "      fill: #174EA6;\n",
              "    }\n",
              "\n",
              "    .colab-df-buttons div {\n",
              "      margin-bottom: 4px;\n",
              "    }\n",
              "\n",
              "    [theme=dark] .colab-df-convert {\n",
              "      background-color: #3B4455;\n",
              "      fill: #D2E3FC;\n",
              "    }\n",
              "\n",
              "    [theme=dark] .colab-df-convert:hover {\n",
              "      background-color: #434B5C;\n",
              "      box-shadow: 0px 1px 3px 1px rgba(0, 0, 0, 0.15);\n",
              "      filter: drop-shadow(0px 1px 2px rgba(0, 0, 0, 0.3));\n",
              "      fill: #FFFFFF;\n",
              "    }\n",
              "  </style>\n",
              "\n",
              "    <script>\n",
              "      const buttonEl =\n",
              "        document.querySelector('#df-99b0fdb5-6370-44a9-805c-06d4e911977a button.colab-df-convert');\n",
              "      buttonEl.style.display =\n",
              "        google.colab.kernel.accessAllowed ? 'block' : 'none';\n",
              "\n",
              "      async function convertToInteractive(key) {\n",
              "        const element = document.querySelector('#df-99b0fdb5-6370-44a9-805c-06d4e911977a');\n",
              "        const dataTable =\n",
              "          await google.colab.kernel.invokeFunction('convertToInteractive',\n",
              "                                                    [key], {});\n",
              "        if (!dataTable) return;\n",
              "\n",
              "        const docLinkHtml = 'Like what you see? Visit the ' +\n",
              "          '<a target=\"_blank\" href=https://colab.research.google.com/notebooks/data_table.ipynb>data table notebook</a>'\n",
              "          + ' to learn more about interactive tables.';\n",
              "        element.innerHTML = '';\n",
              "        dataTable['output_type'] = 'display_data';\n",
              "        await google.colab.output.renderOutput(dataTable, element);\n",
              "        const docLink = document.createElement('div');\n",
              "        docLink.innerHTML = docLinkHtml;\n",
              "        element.appendChild(docLink);\n",
              "      }\n",
              "    </script>\n",
              "  </div>\n",
              "\n",
              "\n",
              "    <div id=\"df-3dd28847-99c8-4332-a792-3b88ac3c6bcc\">\n",
              "      <button class=\"colab-df-quickchart\" onclick=\"quickchart('df-3dd28847-99c8-4332-a792-3b88ac3c6bcc')\"\n",
              "                title=\"Suggest charts\"\n",
              "                style=\"display:none;\">\n",
              "\n",
              "<svg xmlns=\"http://www.w3.org/2000/svg\" height=\"24px\"viewBox=\"0 0 24 24\"\n",
              "     width=\"24px\">\n",
              "    <g>\n",
              "        <path d=\"M19 3H5c-1.1 0-2 .9-2 2v14c0 1.1.9 2 2 2h14c1.1 0 2-.9 2-2V5c0-1.1-.9-2-2-2zM9 17H7v-7h2v7zm4 0h-2V7h2v10zm4 0h-2v-4h2v4z\"/>\n",
              "    </g>\n",
              "</svg>\n",
              "      </button>\n",
              "\n",
              "<style>\n",
              "  .colab-df-quickchart {\n",
              "      --bg-color: #E8F0FE;\n",
              "      --fill-color: #1967D2;\n",
              "      --hover-bg-color: #E2EBFA;\n",
              "      --hover-fill-color: #174EA6;\n",
              "      --disabled-fill-color: #AAA;\n",
              "      --disabled-bg-color: #DDD;\n",
              "  }\n",
              "\n",
              "  [theme=dark] .colab-df-quickchart {\n",
              "      --bg-color: #3B4455;\n",
              "      --fill-color: #D2E3FC;\n",
              "      --hover-bg-color: #434B5C;\n",
              "      --hover-fill-color: #FFFFFF;\n",
              "      --disabled-bg-color: #3B4455;\n",
              "      --disabled-fill-color: #666;\n",
              "  }\n",
              "\n",
              "  .colab-df-quickchart {\n",
              "    background-color: var(--bg-color);\n",
              "    border: none;\n",
              "    border-radius: 50%;\n",
              "    cursor: pointer;\n",
              "    display: none;\n",
              "    fill: var(--fill-color);\n",
              "    height: 32px;\n",
              "    padding: 0;\n",
              "    width: 32px;\n",
              "  }\n",
              "\n",
              "  .colab-df-quickchart:hover {\n",
              "    background-color: var(--hover-bg-color);\n",
              "    box-shadow: 0 1px 2px rgba(60, 64, 67, 0.3), 0 1px 3px 1px rgba(60, 64, 67, 0.15);\n",
              "    fill: var(--button-hover-fill-color);\n",
              "  }\n",
              "\n",
              "  .colab-df-quickchart-complete:disabled,\n",
              "  .colab-df-quickchart-complete:disabled:hover {\n",
              "    background-color: var(--disabled-bg-color);\n",
              "    fill: var(--disabled-fill-color);\n",
              "    box-shadow: none;\n",
              "  }\n",
              "\n",
              "  .colab-df-spinner {\n",
              "    border: 2px solid var(--fill-color);\n",
              "    border-color: transparent;\n",
              "    border-bottom-color: var(--fill-color);\n",
              "    animation:\n",
              "      spin 1s steps(1) infinite;\n",
              "  }\n",
              "\n",
              "  @keyframes spin {\n",
              "    0% {\n",
              "      border-color: transparent;\n",
              "      border-bottom-color: var(--fill-color);\n",
              "      border-left-color: var(--fill-color);\n",
              "    }\n",
              "    20% {\n",
              "      border-color: transparent;\n",
              "      border-left-color: var(--fill-color);\n",
              "      border-top-color: var(--fill-color);\n",
              "    }\n",
              "    30% {\n",
              "      border-color: transparent;\n",
              "      border-left-color: var(--fill-color);\n",
              "      border-top-color: var(--fill-color);\n",
              "      border-right-color: var(--fill-color);\n",
              "    }\n",
              "    40% {\n",
              "      border-color: transparent;\n",
              "      border-right-color: var(--fill-color);\n",
              "      border-top-color: var(--fill-color);\n",
              "    }\n",
              "    60% {\n",
              "      border-color: transparent;\n",
              "      border-right-color: var(--fill-color);\n",
              "    }\n",
              "    80% {\n",
              "      border-color: transparent;\n",
              "      border-right-color: var(--fill-color);\n",
              "      border-bottom-color: var(--fill-color);\n",
              "    }\n",
              "    90% {\n",
              "      border-color: transparent;\n",
              "      border-bottom-color: var(--fill-color);\n",
              "    }\n",
              "  }\n",
              "</style>\n",
              "\n",
              "      <script>\n",
              "        async function quickchart(key) {\n",
              "          const quickchartButtonEl =\n",
              "            document.querySelector('#' + key + ' button');\n",
              "          quickchartButtonEl.disabled = true;  // To prevent multiple clicks.\n",
              "          quickchartButtonEl.classList.add('colab-df-spinner');\n",
              "          try {\n",
              "            const charts = await google.colab.kernel.invokeFunction(\n",
              "                'suggestCharts', [key], {});\n",
              "          } catch (error) {\n",
              "            console.error('Error during call to suggestCharts:', error);\n",
              "          }\n",
              "          quickchartButtonEl.classList.remove('colab-df-spinner');\n",
              "          quickchartButtonEl.classList.add('colab-df-quickchart-complete');\n",
              "        }\n",
              "        (() => {\n",
              "          let quickchartButtonEl =\n",
              "            document.querySelector('#df-3dd28847-99c8-4332-a792-3b88ac3c6bcc button');\n",
              "          quickchartButtonEl.style.display =\n",
              "            google.colab.kernel.accessAllowed ? 'block' : 'none';\n",
              "        })();\n",
              "      </script>\n",
              "    </div>\n",
              "\n",
              "  <div id=\"id_31106d3e-2c54-4f20-8e36-1800edf048e0\">\n",
              "    <style>\n",
              "      .colab-df-generate {\n",
              "        background-color: #E8F0FE;\n",
              "        border: none;\n",
              "        border-radius: 50%;\n",
              "        cursor: pointer;\n",
              "        display: none;\n",
              "        fill: #1967D2;\n",
              "        height: 32px;\n",
              "        padding: 0 0 0 0;\n",
              "        width: 32px;\n",
              "      }\n",
              "\n",
              "      .colab-df-generate:hover {\n",
              "        background-color: #E2EBFA;\n",
              "        box-shadow: 0px 1px 2px rgba(60, 64, 67, 0.3), 0px 1px 3px 1px rgba(60, 64, 67, 0.15);\n",
              "        fill: #174EA6;\n",
              "      }\n",
              "\n",
              "      [theme=dark] .colab-df-generate {\n",
              "        background-color: #3B4455;\n",
              "        fill: #D2E3FC;\n",
              "      }\n",
              "\n",
              "      [theme=dark] .colab-df-generate:hover {\n",
              "        background-color: #434B5C;\n",
              "        box-shadow: 0px 1px 3px 1px rgba(0, 0, 0, 0.15);\n",
              "        filter: drop-shadow(0px 1px 2px rgba(0, 0, 0, 0.3));\n",
              "        fill: #FFFFFF;\n",
              "      }\n",
              "    </style>\n",
              "    <button class=\"colab-df-generate\" onclick=\"generateWithVariable('df_results_sider')\"\n",
              "            title=\"Generate code using this dataframe.\"\n",
              "            style=\"display:none;\">\n",
              "\n",
              "  <svg xmlns=\"http://www.w3.org/2000/svg\" height=\"24px\"viewBox=\"0 0 24 24\"\n",
              "       width=\"24px\">\n",
              "    <path d=\"M7,19H8.4L18.45,9,17,7.55,7,17.6ZM5,21V16.75L18.45,3.32a2,2,0,0,1,2.83,0l1.4,1.43a1.91,1.91,0,0,1,.58,1.4,1.91,1.91,0,0,1-.58,1.4L9.25,21ZM18.45,9,17,7.55Zm-12,3A5.31,5.31,0,0,0,4.9,8.1,5.31,5.31,0,0,0,1,6.5,5.31,5.31,0,0,0,4.9,4.9,5.31,5.31,0,0,0,6.5,1,5.31,5.31,0,0,0,8.1,4.9,5.31,5.31,0,0,0,12,6.5,5.46,5.46,0,0,0,6.5,12Z\"/>\n",
              "  </svg>\n",
              "    </button>\n",
              "    <script>\n",
              "      (() => {\n",
              "      const buttonEl =\n",
              "        document.querySelector('#id_31106d3e-2c54-4f20-8e36-1800edf048e0 button.colab-df-generate');\n",
              "      buttonEl.style.display =\n",
              "        google.colab.kernel.accessAllowed ? 'block' : 'none';\n",
              "\n",
              "      buttonEl.onclick = () => {\n",
              "        google.colab.notebook.generateWithVariable('df_results_sider');\n",
              "      }\n",
              "      })();\n",
              "    </script>\n",
              "  </div>\n",
              "\n",
              "    </div>\n",
              "  </div>\n"
            ],
            "application/vnd.google.colaboratory.intrinsic+json": {
              "type": "dataframe",
              "variable_name": "df_results_sider",
              "summary": "{\n  \"name\": \"df_results_sider\",\n  \"rows\": 3,\n  \"fields\": [\n    {\n      \"column\": \"Model\",\n      \"properties\": {\n        \"dtype\": \"category\",\n        \"num_unique_values\": 1,\n        \"samples\": [\n          \"MLP Neural Network\"\n        ],\n        \"semantic_type\": \"\",\n        \"description\": \"\"\n      }\n    },\n    {\n      \"column\": \"Featurizer\",\n      \"properties\": {\n        \"dtype\": \"string\",\n        \"num_unique_values\": 3,\n        \"samples\": [\n          \"MACCS Keys\"\n        ],\n        \"semantic_type\": \"\",\n        \"description\": \"\"\n      }\n    },\n    {\n      \"column\": \"ROC AUC (Weighted)\",\n      \"properties\": {\n        \"dtype\": \"number\",\n        \"std\": 0.038892432900124,\n        \"min\": 0.5512097054488913,\n        \"max\": 0.627504404739596,\n        \"num_unique_values\": 3,\n        \"samples\": [\n          0.627504404739596\n        ],\n        \"semantic_type\": \"\",\n        \"description\": \"\"\n      }\n    }\n  ]\n}"
            }
          },
          "metadata": {},
          "execution_count": 16
        }
      ]
    }
  ]
}